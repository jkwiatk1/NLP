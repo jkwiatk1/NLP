{
  "cells": [
    {
      "cell_type": "markdown",
      "metadata": {
        "id": "W21vS_9IwZcK"
      },
      "source": [
        "RoBERTa for Semantic Evaluation\n",
        "USe of GPU capabilitiwes is strongly advised. https://developer.nvidia.com/cuda-downloads?target_os=Windows&target_arch=x86_64&target_version=10\n",
        "\n",
        "Tested on Python 3.8.10"
      ]
    },
    {
      "cell_type": "code",
      "source": [
        "from google.colab import drive\n",
        "drive.mount(\"/content/drive/\")\n",
        "\n"
      ],
      "metadata": {
        "colab": {
          "base_uri": "https://localhost:8080/"
        },
        "id": "w0_VJPFGdy5t",
        "outputId": "e43849e9-3261-4606-8d93-205c0e94c359"
      },
      "execution_count": null,
      "outputs": [
        {
          "output_type": "stream",
          "name": "stdout",
          "text": [
            "Mounted at /content/drive/\n"
          ]
        }
      ]
    },
    {
      "cell_type": "code",
      "source": [
        "import os\n",
        "root = '/content/drive/My Drive/stud/nlp/isits_ft2/'\n",
        "semeval2_root = '/content/drive/My Drive/stud/nlp/semeval2/'\n",
        "semeval_root = '/content/drive/My Drive/stud/nlp/semeval/'\n"
      ],
      "metadata": {
        "id": "j1tvcZtsMibe"
      },
      "execution_count": null,
      "outputs": []
    },
    {
      "cell_type": "code",
      "source": [
        "astrain = pd.read_csv(semeval_root+'answers_students/answers_students_train_data.tsv', header= 0, sep='\\t')\n",
        "htrain = pd.read_csv(semeval_root+'headlines/headlines_train_data.tsv', header= 0, sep='\\t')\n",
        "imgtrain = pd.read_csv(semeval_root+'images/images_train_data.tsv', header= 0, sep='\\t')\n",
        "\n",
        "df_train = pd.concat([astrain, htrain, imgtrain], axis=0)\n",
        "df_train.reset_index(inplace=True, drop=True)\n",
        "df_train.to_csv( semeval2_root+'train.csv',index=False)"
      ],
      "metadata": {
        "id": "fL7occi95ll8"
      },
      "execution_count": null,
      "outputs": []
    },
    {
      "cell_type": "code",
      "source": [
        "astest = pd.read_csv(semeval_root+'answers_students/answers_students_test_data.tsv', header= 0, sep='\\t')\n",
        "htest = pd.read_csv(semeval_root+'headlines/headlines_test_data.tsv', header= 0, sep='\\t')\n",
        "imgtest = pd.read_csv(semeval_root+'images/images_test_data.tsv', header= 0, sep='\\t')\n",
        "\n",
        "df_test = pd.concat([astest, htest, imgtest], axis=0)\n",
        "df_test.reset_index(inplace=True, drop=True)\n",
        "df_test.to_csv( semeval2_root+'test.csv',index=False)"
      ],
      "metadata": {
        "id": "UvK-bfB67IhA"
      },
      "execution_count": null,
      "outputs": []
    },
    {
      "cell_type": "code",
      "source": [
        "astest = pd.read_csv(semeval_root+'answers_students/answers_students_test_data.tsv', header= 0, sep='\\t')\n",
        "htest = pd.read_csv(semeval_root+'headlines/headlines_test_data.tsv', header= 0, sep='\\t')\n",
        "imgtest = pd.read_csv(semeval_root+'images/images_test_data.tsv', header= 0, sep='\\t')"
      ],
      "metadata": {
        "id": "akdPVaPPtAno"
      },
      "execution_count": null,
      "outputs": []
    },
    {
      "cell_type": "code",
      "source": [
        "imgtest['y_score'].value_counts()"
      ],
      "metadata": {
        "colab": {
          "base_uri": "https://localhost:8080/"
        },
        "id": "XbVQbRxitXFF",
        "outputId": "53b32a49-f909-4792-b69b-41cacb54c3e0"
      },
      "execution_count": null,
      "outputs": [
        {
          "output_type": "execute_result",
          "data": {
            "text/plain": [
              "5    499\n",
              "3    235\n",
              "2    170\n",
              "1     35\n",
              "4      3\n",
              "Name: y_score, dtype: int64"
            ]
          },
          "metadata": {},
          "execution_count": 12
        }
      ]
    },
    {
      "cell_type": "code",
      "source": [
        "!pip3 install transformers==4.25.1"
      ],
      "metadata": {
        "colab": {
          "base_uri": "https://localhost:8080/"
        },
        "id": "YspiG6Ogd7V4",
        "outputId": "5e506020-c254-490b-cfa3-c99470544cf6"
      },
      "execution_count": null,
      "outputs": [
        {
          "output_type": "stream",
          "name": "stdout",
          "text": [
            "Looking in indexes: https://pypi.org/simple, https://us-python.pkg.dev/colab-wheels/public/simple/\n",
            "Collecting transformers==4.25.1\n",
            "  Downloading transformers-4.25.1-py3-none-any.whl (5.8 MB)\n",
            "\u001b[2K     \u001b[90m━━━━━━━━━━━━━━━━━━━━━━━━━━━━━━━━━━━━━━━━\u001b[0m \u001b[32m5.8/5.8 MB\u001b[0m \u001b[31m51.5 MB/s\u001b[0m eta \u001b[36m0:00:00\u001b[0m\n",
            "\u001b[?25hRequirement already satisfied: filelock in /usr/local/lib/python3.10/dist-packages (from transformers==4.25.1) (3.12.0)\n",
            "Collecting huggingface-hub<1.0,>=0.10.0 (from transformers==4.25.1)\n",
            "  Downloading huggingface_hub-0.14.1-py3-none-any.whl (224 kB)\n",
            "\u001b[2K     \u001b[90m━━━━━━━━━━━━━━━━━━━━━━━━━━━━━━━━━━━━━━\u001b[0m \u001b[32m224.5/224.5 kB\u001b[0m \u001b[31m29.5 MB/s\u001b[0m eta \u001b[36m0:00:00\u001b[0m\n",
            "\u001b[?25hRequirement already satisfied: numpy>=1.17 in /usr/local/lib/python3.10/dist-packages (from transformers==4.25.1) (1.22.4)\n",
            "Requirement already satisfied: packaging>=20.0 in /usr/local/lib/python3.10/dist-packages (from transformers==4.25.1) (23.1)\n",
            "Requirement already satisfied: pyyaml>=5.1 in /usr/local/lib/python3.10/dist-packages (from transformers==4.25.1) (6.0)\n",
            "Requirement already satisfied: regex!=2019.12.17 in /usr/local/lib/python3.10/dist-packages (from transformers==4.25.1) (2022.10.31)\n",
            "Requirement already satisfied: requests in /usr/local/lib/python3.10/dist-packages (from transformers==4.25.1) (2.27.1)\n",
            "Collecting tokenizers!=0.11.3,<0.14,>=0.11.1 (from transformers==4.25.1)\n",
            "  Downloading tokenizers-0.13.3-cp310-cp310-manylinux_2_17_x86_64.manylinux2014_x86_64.whl (7.8 MB)\n",
            "\u001b[2K     \u001b[90m━━━━━━━━━━━━━━━━━━━━━━━━━━━━━━━━━━━━━━━━\u001b[0m \u001b[32m7.8/7.8 MB\u001b[0m \u001b[31m110.3 MB/s\u001b[0m eta \u001b[36m0:00:00\u001b[0m\n",
            "\u001b[?25hRequirement already satisfied: tqdm>=4.27 in /usr/local/lib/python3.10/dist-packages (from transformers==4.25.1) (4.65.0)\n",
            "Requirement already satisfied: fsspec in /usr/local/lib/python3.10/dist-packages (from huggingface-hub<1.0,>=0.10.0->transformers==4.25.1) (2023.4.0)\n",
            "Requirement already satisfied: typing-extensions>=3.7.4.3 in /usr/local/lib/python3.10/dist-packages (from huggingface-hub<1.0,>=0.10.0->transformers==4.25.1) (4.5.0)\n",
            "Requirement already satisfied: urllib3<1.27,>=1.21.1 in /usr/local/lib/python3.10/dist-packages (from requests->transformers==4.25.1) (1.26.15)\n",
            "Requirement already satisfied: certifi>=2017.4.17 in /usr/local/lib/python3.10/dist-packages (from requests->transformers==4.25.1) (2022.12.7)\n",
            "Requirement already satisfied: charset-normalizer~=2.0.0 in /usr/local/lib/python3.10/dist-packages (from requests->transformers==4.25.1) (2.0.12)\n",
            "Requirement already satisfied: idna<4,>=2.5 in /usr/local/lib/python3.10/dist-packages (from requests->transformers==4.25.1) (3.4)\n",
            "Installing collected packages: tokenizers, huggingface-hub, transformers\n",
            "Successfully installed huggingface-hub-0.14.1 tokenizers-0.13.3 transformers-4.25.1\n"
          ]
        }
      ]
    },
    {
      "cell_type": "code",
      "source": [
        "import torch\n",
        "import pandas as pd\n",
        "import numpy as np\n",
        "import matplotlib.pyplot as plt\n",
        "from sklearn.model_selection import train_test_split\n",
        "from sklearn.metrics import accuracy_score, classification_report, confusion_matrix\n",
        "import torch\n",
        "import seaborn as sns\n",
        "import transformers\n",
        "import pandas as pd\n",
        "import seaborn as sns\n",
        "import json\n",
        "from tqdm import tqdm\n",
        "from torch.utils.data import Dataset, DataLoader\n",
        "from transformers import RobertaModel, RobertaTokenizer\n",
        "import logging\n",
        "logging.basicConfig(level=logging.ERROR)\n",
        "from ipywidgets import IntProgress\n",
        "from transformers import RobertaTokenizer, RobertaModel, AdamW, get_linear_schedule_with_warmup\n",
        "import time"
      ],
      "metadata": {
        "id": "JL_cOTQOePOs"
      },
      "execution_count": null,
      "outputs": []
    },
    {
      "cell_type": "code",
      "source": [
        "df_train['y_score'].value_counts()"
      ],
      "metadata": {
        "colab": {
          "base_uri": "https://localhost:8080/"
        },
        "id": "bat9Siq19vuF",
        "outputId": "cff52e04-0be1-4eba-b838-3a817dfec13a"
      },
      "execution_count": null,
      "outputs": [
        {
          "output_type": "execute_result",
          "data": {
            "text/plain": [
              "5    2447\n",
              "3     765\n",
              "2     571\n",
              "1     233\n",
              "4      58\n",
              "Name: y_score, dtype: int64"
            ]
          },
          "metadata": {},
          "execution_count": 134
        }
      ]
    },
    {
      "cell_type": "markdown",
      "source": [
        "Proba ze zbiorem semieval2"
      ],
      "metadata": {
        "id": "2pJN1SoH9gaO"
      }
    },
    {
      "cell_type": "code",
      "source": [
        "df_train = pd.read_csv(semeval2_root+'train.csv', header= 0)\n",
        "df_test = pd.read_csv(semeval2_root+'test.csv', header= 0)\n",
        "\n",
        "\n",
        "types_map = {'EQUI':0, 'SIMI':1, 'SPE1':2, 'SPE2':3, 'REL':4, 'OPPO':5}\n",
        "\n",
        "def preprocess_semeval(semeval_df, is_score_based = False):\n",
        "  #semeval_df['type'] = semeval_df['explanation'].map(types_map)\n",
        "\n",
        "\n",
        "  semeval_df['text'] = semeval_df['x1'] + \" . \" + semeval_df['x2']\n",
        "\n",
        "  #df = df.drop(['type'], axis=1)\n",
        "  semeval_df['target1'] = semeval_df['y_score'] - 1\n",
        "  semeval_df['target2'] = semeval_df['y_type'] - 1\n",
        "\n",
        "  semeval_df = semeval_df.drop(['y_score'], axis=1)\n",
        "  semeval_df = semeval_df.drop(['y_type'], axis=1)\n",
        "  semeval_df = semeval_df.drop(['x1'], axis=1)\n",
        "  semeval_df = semeval_df.drop(['x2'], axis=1)\n",
        "  #semeval_df['target2'] = semeval_df['type']\n",
        "  return semeval_df\n",
        "\n",
        "df_train = preprocess_semeval(df_train, is_score_based=is_score_based)\n",
        "df_test = preprocess_semeval(df_test, is_score_based=is_score_based)"
      ],
      "metadata": {
        "id": "Tn7lVws-6qsA"
      },
      "execution_count": null,
      "outputs": []
    },
    {
      "cell_type": "code",
      "source": [
        "unique_values = df_train['x1'].unique()\n",
        "len(unique_values)/len(df_train)"
      ],
      "metadata": {
        "colab": {
          "base_uri": "https://localhost:8080/"
        },
        "id": "LPh_QD0c4Jku",
        "outputId": "be61cdb4-eae6-4923-c480-25542d70c13a"
      },
      "execution_count": null,
      "outputs": [
        {
          "output_type": "execute_result",
          "data": {
            "text/plain": [
              "0.6659302896416298"
            ]
          },
          "metadata": {},
          "execution_count": 143
        }
      ]
    },
    {
      "cell_type": "code",
      "source": [
        "sorted_df_train = df_train.sort_values('x1', ascending = False)\n",
        "sorted_df_test = df_test.sort_values('x1', ascending = False)"
      ],
      "metadata": {
        "id": "dKW6skHgy4pZ"
      },
      "execution_count": null,
      "outputs": []
    },
    {
      "cell_type": "code",
      "source": [
        "# Zakładając, że 'df1' i 'df2' to dwie ramki danych\n",
        "\n",
        "intersection = pd.merge(df_train, df_test, on=['x1','x2'], how='inner')\n",
        "\n",
        "# Dostęp do powtarzających się komórek\n",
        "#repeated_cells = intersection['chunk1', 'chunk2']\n",
        "\n",
        "# Liczba powtarzających się komórek\n",
        "intersection_count = len(intersection)\n",
        "\n",
        "print(\"Liczba powtarzających się komórek: \", intersection_count)"
      ],
      "metadata": {
        "colab": {
          "base_uri": "https://localhost:8080/"
        },
        "id": "hrDvSaVN1-Vq",
        "outputId": "32ef0177-7439-4ee5-e03a-eea86f8ba086"
      },
      "execution_count": null,
      "outputs": [
        {
          "output_type": "stream",
          "name": "stdout",
          "text": [
            "Liczba powtarzających się komórek:  5435\n"
          ]
        }
      ]
    },
    {
      "cell_type": "code",
      "source": [
        "sorted_df_test"
      ],
      "metadata": {
        "colab": {
          "base_uri": "https://localhost:8080/",
          "height": 402
        },
        "id": "uHRSZVdFzp4_",
        "outputId": "0cd8f43e-a07b-4f24-d797-83cc3a7958da"
      },
      "execution_count": null,
      "outputs": [
        {
          "output_type": "execute_result",
          "data": {
            "text/plain": [
              "           x1                 x2                    text  target1  target2\n",
              "805         z        A C Z and X         z . A C Z and X        2        1\n",
              "2074      you                you               you . you        4        4\n",
              "1958      you                you               you . you        4        4\n",
              "345   x and z        A C Z and X   x and z . A C Z and X        2        1\n",
              "2110  writing               busy          writing . busy        0        2\n",
              "...       ...                ...                     ...      ...      ...\n",
              "1912  056 pct             05 pct        056 pct . 05 pct        1        3\n",
              "1438   02 pct      up 02 percent  02 pct . up 02 percent        2        3\n",
              "482         0  in the same state   0 . in the same state        2        2\n",
              "2113  's head            's head       's head . 's head        4        4\n",
              "2973  's head            's head       's head . 's head        4        4\n",
              "\n",
              "[3045 rows x 5 columns]"
            ],
            "text/html": [
              "\n",
              "  <div id=\"df-e22210fd-bbe7-472e-baa6-ecc2304fbc18\">\n",
              "    <div class=\"colab-df-container\">\n",
              "      <div>\n",
              "<style scoped>\n",
              "    .dataframe tbody tr th:only-of-type {\n",
              "        vertical-align: middle;\n",
              "    }\n",
              "\n",
              "    .dataframe tbody tr th {\n",
              "        vertical-align: top;\n",
              "    }\n",
              "\n",
              "    .dataframe thead th {\n",
              "        text-align: right;\n",
              "    }\n",
              "</style>\n",
              "<table border=\"1\" class=\"dataframe\">\n",
              "  <thead>\n",
              "    <tr style=\"text-align: right;\">\n",
              "      <th></th>\n",
              "      <th>x1</th>\n",
              "      <th>x2</th>\n",
              "      <th>text</th>\n",
              "      <th>target1</th>\n",
              "      <th>target2</th>\n",
              "    </tr>\n",
              "  </thead>\n",
              "  <tbody>\n",
              "    <tr>\n",
              "      <th>805</th>\n",
              "      <td>z</td>\n",
              "      <td>A C Z and X</td>\n",
              "      <td>z . A C Z and X</td>\n",
              "      <td>2</td>\n",
              "      <td>1</td>\n",
              "    </tr>\n",
              "    <tr>\n",
              "      <th>2074</th>\n",
              "      <td>you</td>\n",
              "      <td>you</td>\n",
              "      <td>you . you</td>\n",
              "      <td>4</td>\n",
              "      <td>4</td>\n",
              "    </tr>\n",
              "    <tr>\n",
              "      <th>1958</th>\n",
              "      <td>you</td>\n",
              "      <td>you</td>\n",
              "      <td>you . you</td>\n",
              "      <td>4</td>\n",
              "      <td>4</td>\n",
              "    </tr>\n",
              "    <tr>\n",
              "      <th>345</th>\n",
              "      <td>x and z</td>\n",
              "      <td>A C Z and X</td>\n",
              "      <td>x and z . A C Z and X</td>\n",
              "      <td>2</td>\n",
              "      <td>1</td>\n",
              "    </tr>\n",
              "    <tr>\n",
              "      <th>2110</th>\n",
              "      <td>writing</td>\n",
              "      <td>busy</td>\n",
              "      <td>writing . busy</td>\n",
              "      <td>0</td>\n",
              "      <td>2</td>\n",
              "    </tr>\n",
              "    <tr>\n",
              "      <th>...</th>\n",
              "      <td>...</td>\n",
              "      <td>...</td>\n",
              "      <td>...</td>\n",
              "      <td>...</td>\n",
              "      <td>...</td>\n",
              "    </tr>\n",
              "    <tr>\n",
              "      <th>1912</th>\n",
              "      <td>056 pct</td>\n",
              "      <td>05 pct</td>\n",
              "      <td>056 pct . 05 pct</td>\n",
              "      <td>1</td>\n",
              "      <td>3</td>\n",
              "    </tr>\n",
              "    <tr>\n",
              "      <th>1438</th>\n",
              "      <td>02 pct</td>\n",
              "      <td>up 02 percent</td>\n",
              "      <td>02 pct . up 02 percent</td>\n",
              "      <td>2</td>\n",
              "      <td>3</td>\n",
              "    </tr>\n",
              "    <tr>\n",
              "      <th>482</th>\n",
              "      <td>0</td>\n",
              "      <td>in the same state</td>\n",
              "      <td>0 . in the same state</td>\n",
              "      <td>2</td>\n",
              "      <td>2</td>\n",
              "    </tr>\n",
              "    <tr>\n",
              "      <th>2113</th>\n",
              "      <td>'s head</td>\n",
              "      <td>'s head</td>\n",
              "      <td>'s head . 's head</td>\n",
              "      <td>4</td>\n",
              "      <td>4</td>\n",
              "    </tr>\n",
              "    <tr>\n",
              "      <th>2973</th>\n",
              "      <td>'s head</td>\n",
              "      <td>'s head</td>\n",
              "      <td>'s head . 's head</td>\n",
              "      <td>4</td>\n",
              "      <td>4</td>\n",
              "    </tr>\n",
              "  </tbody>\n",
              "</table>\n",
              "<p>3045 rows × 5 columns</p>\n",
              "</div>\n",
              "      <button class=\"colab-df-convert\" onclick=\"convertToInteractive('df-e22210fd-bbe7-472e-baa6-ecc2304fbc18')\"\n",
              "              title=\"Convert this dataframe to an interactive table.\"\n",
              "              style=\"display:none;\">\n",
              "        \n",
              "  <svg xmlns=\"http://www.w3.org/2000/svg\" height=\"24px\"viewBox=\"0 0 24 24\"\n",
              "       width=\"24px\">\n",
              "    <path d=\"M0 0h24v24H0V0z\" fill=\"none\"/>\n",
              "    <path d=\"M18.56 5.44l.94 2.06.94-2.06 2.06-.94-2.06-.94-.94-2.06-.94 2.06-2.06.94zm-11 1L8.5 8.5l.94-2.06 2.06-.94-2.06-.94L8.5 2.5l-.94 2.06-2.06.94zm10 10l.94 2.06.94-2.06 2.06-.94-2.06-.94-.94-2.06-.94 2.06-2.06.94z\"/><path d=\"M17.41 7.96l-1.37-1.37c-.4-.4-.92-.59-1.43-.59-.52 0-1.04.2-1.43.59L10.3 9.45l-7.72 7.72c-.78.78-.78 2.05 0 2.83L4 21.41c.39.39.9.59 1.41.59.51 0 1.02-.2 1.41-.59l7.78-7.78 2.81-2.81c.8-.78.8-2.07 0-2.86zM5.41 20L4 18.59l7.72-7.72 1.47 1.35L5.41 20z\"/>\n",
              "  </svg>\n",
              "      </button>\n",
              "      \n",
              "  <style>\n",
              "    .colab-df-container {\n",
              "      display:flex;\n",
              "      flex-wrap:wrap;\n",
              "      gap: 12px;\n",
              "    }\n",
              "\n",
              "    .colab-df-convert {\n",
              "      background-color: #E8F0FE;\n",
              "      border: none;\n",
              "      border-radius: 50%;\n",
              "      cursor: pointer;\n",
              "      display: none;\n",
              "      fill: #1967D2;\n",
              "      height: 32px;\n",
              "      padding: 0 0 0 0;\n",
              "      width: 32px;\n",
              "    }\n",
              "\n",
              "    .colab-df-convert:hover {\n",
              "      background-color: #E2EBFA;\n",
              "      box-shadow: 0px 1px 2px rgba(60, 64, 67, 0.3), 0px 1px 3px 1px rgba(60, 64, 67, 0.15);\n",
              "      fill: #174EA6;\n",
              "    }\n",
              "\n",
              "    [theme=dark] .colab-df-convert {\n",
              "      background-color: #3B4455;\n",
              "      fill: #D2E3FC;\n",
              "    }\n",
              "\n",
              "    [theme=dark] .colab-df-convert:hover {\n",
              "      background-color: #434B5C;\n",
              "      box-shadow: 0px 1px 3px 1px rgba(0, 0, 0, 0.15);\n",
              "      filter: drop-shadow(0px 1px 2px rgba(0, 0, 0, 0.3));\n",
              "      fill: #FFFFFF;\n",
              "    }\n",
              "  </style>\n",
              "\n",
              "      <script>\n",
              "        const buttonEl =\n",
              "          document.querySelector('#df-e22210fd-bbe7-472e-baa6-ecc2304fbc18 button.colab-df-convert');\n",
              "        buttonEl.style.display =\n",
              "          google.colab.kernel.accessAllowed ? 'block' : 'none';\n",
              "\n",
              "        async function convertToInteractive(key) {\n",
              "          const element = document.querySelector('#df-e22210fd-bbe7-472e-baa6-ecc2304fbc18');\n",
              "          const dataTable =\n",
              "            await google.colab.kernel.invokeFunction('convertToInteractive',\n",
              "                                                     [key], {});\n",
              "          if (!dataTable) return;\n",
              "\n",
              "          const docLinkHtml = 'Like what you see? Visit the ' +\n",
              "            '<a target=\"_blank\" href=https://colab.research.google.com/notebooks/data_table.ipynb>data table notebook</a>'\n",
              "            + ' to learn more about interactive tables.';\n",
              "          element.innerHTML = '';\n",
              "          dataTable['output_type'] = 'display_data';\n",
              "          await google.colab.output.renderOutput(dataTable, element);\n",
              "          const docLink = document.createElement('div');\n",
              "          docLink.innerHTML = docLinkHtml;\n",
              "          element.appendChild(docLink);\n",
              "        }\n",
              "      </script>\n",
              "    </div>\n",
              "  </div>\n",
              "  "
            ]
          },
          "metadata": {},
          "execution_count": 148
        }
      ]
    },
    {
      "cell_type": "code",
      "source": [
        "sorted_df_train"
      ],
      "metadata": {
        "colab": {
          "base_uri": "https://localhost:8080/",
          "height": 919
        },
        "id": "4iWC-U1URfHm",
        "outputId": "a6c87d76-2f4f-4029-841c-3e59b3aa8d9f"
      },
      "execution_count": null,
      "outputs": [
        {
          "output_type": "execute_result",
          "data": {
            "text/plain": [
              "                                chunk1  \\\n",
              "674                         zipping up   \n",
              "468                            wounded   \n",
              "503                            wounded   \n",
              "2252                          would be   \n",
              "329                               work   \n",
              "...                                ...   \n",
              "736                              $ 53m   \n",
              "2600  \"the electrical state difference   \n",
              "2480            \"the battery terminals   \n",
              "2059         \"bulb A\"\"s path switch Z\"   \n",
              "2335                       \"Without A,   \n",
              "\n",
              "                                           chunk2  value explanation  type  \\\n",
              "674                                   to slide up      3        SIMI     1   \n",
              "468                                       wounded      5        EQUI     0   \n",
              "503                                       wounded      5        EQUI     0   \n",
              "2252                                           is      4        SIMI     1   \n",
              "329                                        access      3        SPE1     2   \n",
              "...                                           ...    ...         ...   ...   \n",
              "736                            $ 53 million worth      5        EQUI     0   \n",
              "2600                  different electrical states      4        SIMI     1   \n",
              "2480                                  the battery      4        SPE1     2   \n",
              "2059  Switch Y and bulb A in the same closed path      2         REL     4   \n",
              "2335                         If bulb A burns out,      3        SPE2     3   \n",
              "\n",
              "                                                   text  target1  target2  \\\n",
              "674                            zipping up . to slide up        2        1   \n",
              "468                                   wounded . wounded        4        0   \n",
              "503                                   wounded . wounded        4        0   \n",
              "2252                                      would be . is        3        1   \n",
              "329                                       work . access        2        2   \n",
              "...                                                 ...      ...      ...   \n",
              "736                          $ 53m . $ 53 million worth        4        0   \n",
              "2600  \"the electrical state difference . different e...        3        1   \n",
              "2480               \"the battery terminals . the battery        3        2   \n",
              "2059  \"bulb A\"\"s path switch Z\" . Switch Y and bulb ...        1        4   \n",
              "2335                 \"Without A, . If bulb A burns out,        2        3   \n",
              "\n",
              "     targets12  \n",
              "674         21  \n",
              "468         40  \n",
              "503         40  \n",
              "2252        31  \n",
              "329         22  \n",
              "...        ...  \n",
              "736         40  \n",
              "2600        31  \n",
              "2480        32  \n",
              "2059        14  \n",
              "2335        23  \n",
              "\n",
              "[2941 rows x 9 columns]"
            ],
            "text/html": [
              "\n",
              "  <div id=\"df-a413a3b3-1edc-4fd1-8aab-756c4f0c5a26\">\n",
              "    <div class=\"colab-df-container\">\n",
              "      <div>\n",
              "<style scoped>\n",
              "    .dataframe tbody tr th:only-of-type {\n",
              "        vertical-align: middle;\n",
              "    }\n",
              "\n",
              "    .dataframe tbody tr th {\n",
              "        vertical-align: top;\n",
              "    }\n",
              "\n",
              "    .dataframe thead th {\n",
              "        text-align: right;\n",
              "    }\n",
              "</style>\n",
              "<table border=\"1\" class=\"dataframe\">\n",
              "  <thead>\n",
              "    <tr style=\"text-align: right;\">\n",
              "      <th></th>\n",
              "      <th>chunk1</th>\n",
              "      <th>chunk2</th>\n",
              "      <th>value</th>\n",
              "      <th>explanation</th>\n",
              "      <th>type</th>\n",
              "      <th>text</th>\n",
              "      <th>target1</th>\n",
              "      <th>target2</th>\n",
              "      <th>targets12</th>\n",
              "    </tr>\n",
              "  </thead>\n",
              "  <tbody>\n",
              "    <tr>\n",
              "      <th>674</th>\n",
              "      <td>zipping up</td>\n",
              "      <td>to slide up</td>\n",
              "      <td>3</td>\n",
              "      <td>SIMI</td>\n",
              "      <td>1</td>\n",
              "      <td>zipping up . to slide up</td>\n",
              "      <td>2</td>\n",
              "      <td>1</td>\n",
              "      <td>21</td>\n",
              "    </tr>\n",
              "    <tr>\n",
              "      <th>468</th>\n",
              "      <td>wounded</td>\n",
              "      <td>wounded</td>\n",
              "      <td>5</td>\n",
              "      <td>EQUI</td>\n",
              "      <td>0</td>\n",
              "      <td>wounded . wounded</td>\n",
              "      <td>4</td>\n",
              "      <td>0</td>\n",
              "      <td>40</td>\n",
              "    </tr>\n",
              "    <tr>\n",
              "      <th>503</th>\n",
              "      <td>wounded</td>\n",
              "      <td>wounded</td>\n",
              "      <td>5</td>\n",
              "      <td>EQUI</td>\n",
              "      <td>0</td>\n",
              "      <td>wounded . wounded</td>\n",
              "      <td>4</td>\n",
              "      <td>0</td>\n",
              "      <td>40</td>\n",
              "    </tr>\n",
              "    <tr>\n",
              "      <th>2252</th>\n",
              "      <td>would be</td>\n",
              "      <td>is</td>\n",
              "      <td>4</td>\n",
              "      <td>SIMI</td>\n",
              "      <td>1</td>\n",
              "      <td>would be . is</td>\n",
              "      <td>3</td>\n",
              "      <td>1</td>\n",
              "      <td>31</td>\n",
              "    </tr>\n",
              "    <tr>\n",
              "      <th>329</th>\n",
              "      <td>work</td>\n",
              "      <td>access</td>\n",
              "      <td>3</td>\n",
              "      <td>SPE1</td>\n",
              "      <td>2</td>\n",
              "      <td>work . access</td>\n",
              "      <td>2</td>\n",
              "      <td>2</td>\n",
              "      <td>22</td>\n",
              "    </tr>\n",
              "    <tr>\n",
              "      <th>...</th>\n",
              "      <td>...</td>\n",
              "      <td>...</td>\n",
              "      <td>...</td>\n",
              "      <td>...</td>\n",
              "      <td>...</td>\n",
              "      <td>...</td>\n",
              "      <td>...</td>\n",
              "      <td>...</td>\n",
              "      <td>...</td>\n",
              "    </tr>\n",
              "    <tr>\n",
              "      <th>736</th>\n",
              "      <td>$ 53m</td>\n",
              "      <td>$ 53 million worth</td>\n",
              "      <td>5</td>\n",
              "      <td>EQUI</td>\n",
              "      <td>0</td>\n",
              "      <td>$ 53m . $ 53 million worth</td>\n",
              "      <td>4</td>\n",
              "      <td>0</td>\n",
              "      <td>40</td>\n",
              "    </tr>\n",
              "    <tr>\n",
              "      <th>2600</th>\n",
              "      <td>\"the electrical state difference</td>\n",
              "      <td>different electrical states</td>\n",
              "      <td>4</td>\n",
              "      <td>SIMI</td>\n",
              "      <td>1</td>\n",
              "      <td>\"the electrical state difference . different e...</td>\n",
              "      <td>3</td>\n",
              "      <td>1</td>\n",
              "      <td>31</td>\n",
              "    </tr>\n",
              "    <tr>\n",
              "      <th>2480</th>\n",
              "      <td>\"the battery terminals</td>\n",
              "      <td>the battery</td>\n",
              "      <td>4</td>\n",
              "      <td>SPE1</td>\n",
              "      <td>2</td>\n",
              "      <td>\"the battery terminals . the battery</td>\n",
              "      <td>3</td>\n",
              "      <td>2</td>\n",
              "      <td>32</td>\n",
              "    </tr>\n",
              "    <tr>\n",
              "      <th>2059</th>\n",
              "      <td>\"bulb A\"\"s path switch Z\"</td>\n",
              "      <td>Switch Y and bulb A in the same closed path</td>\n",
              "      <td>2</td>\n",
              "      <td>REL</td>\n",
              "      <td>4</td>\n",
              "      <td>\"bulb A\"\"s path switch Z\" . Switch Y and bulb ...</td>\n",
              "      <td>1</td>\n",
              "      <td>4</td>\n",
              "      <td>14</td>\n",
              "    </tr>\n",
              "    <tr>\n",
              "      <th>2335</th>\n",
              "      <td>\"Without A,</td>\n",
              "      <td>If bulb A burns out,</td>\n",
              "      <td>3</td>\n",
              "      <td>SPE2</td>\n",
              "      <td>3</td>\n",
              "      <td>\"Without A, . If bulb A burns out,</td>\n",
              "      <td>2</td>\n",
              "      <td>3</td>\n",
              "      <td>23</td>\n",
              "    </tr>\n",
              "  </tbody>\n",
              "</table>\n",
              "<p>2941 rows × 9 columns</p>\n",
              "</div>\n",
              "      <button class=\"colab-df-convert\" onclick=\"convertToInteractive('df-a413a3b3-1edc-4fd1-8aab-756c4f0c5a26')\"\n",
              "              title=\"Convert this dataframe to an interactive table.\"\n",
              "              style=\"display:none;\">\n",
              "        \n",
              "  <svg xmlns=\"http://www.w3.org/2000/svg\" height=\"24px\"viewBox=\"0 0 24 24\"\n",
              "       width=\"24px\">\n",
              "    <path d=\"M0 0h24v24H0V0z\" fill=\"none\"/>\n",
              "    <path d=\"M18.56 5.44l.94 2.06.94-2.06 2.06-.94-2.06-.94-.94-2.06-.94 2.06-2.06.94zm-11 1L8.5 8.5l.94-2.06 2.06-.94-2.06-.94L8.5 2.5l-.94 2.06-2.06.94zm10 10l.94 2.06.94-2.06 2.06-.94-2.06-.94-.94-2.06-.94 2.06-2.06.94z\"/><path d=\"M17.41 7.96l-1.37-1.37c-.4-.4-.92-.59-1.43-.59-.52 0-1.04.2-1.43.59L10.3 9.45l-7.72 7.72c-.78.78-.78 2.05 0 2.83L4 21.41c.39.39.9.59 1.41.59.51 0 1.02-.2 1.41-.59l7.78-7.78 2.81-2.81c.8-.78.8-2.07 0-2.86zM5.41 20L4 18.59l7.72-7.72 1.47 1.35L5.41 20z\"/>\n",
              "  </svg>\n",
              "      </button>\n",
              "      \n",
              "  <style>\n",
              "    .colab-df-container {\n",
              "      display:flex;\n",
              "      flex-wrap:wrap;\n",
              "      gap: 12px;\n",
              "    }\n",
              "\n",
              "    .colab-df-convert {\n",
              "      background-color: #E8F0FE;\n",
              "      border: none;\n",
              "      border-radius: 50%;\n",
              "      cursor: pointer;\n",
              "      display: none;\n",
              "      fill: #1967D2;\n",
              "      height: 32px;\n",
              "      padding: 0 0 0 0;\n",
              "      width: 32px;\n",
              "    }\n",
              "\n",
              "    .colab-df-convert:hover {\n",
              "      background-color: #E2EBFA;\n",
              "      box-shadow: 0px 1px 2px rgba(60, 64, 67, 0.3), 0px 1px 3px 1px rgba(60, 64, 67, 0.15);\n",
              "      fill: #174EA6;\n",
              "    }\n",
              "\n",
              "    [theme=dark] .colab-df-convert {\n",
              "      background-color: #3B4455;\n",
              "      fill: #D2E3FC;\n",
              "    }\n",
              "\n",
              "    [theme=dark] .colab-df-convert:hover {\n",
              "      background-color: #434B5C;\n",
              "      box-shadow: 0px 1px 3px 1px rgba(0, 0, 0, 0.15);\n",
              "      filter: drop-shadow(0px 1px 2px rgba(0, 0, 0, 0.3));\n",
              "      fill: #FFFFFF;\n",
              "    }\n",
              "  </style>\n",
              "\n",
              "      <script>\n",
              "        const buttonEl =\n",
              "          document.querySelector('#df-a413a3b3-1edc-4fd1-8aab-756c4f0c5a26 button.colab-df-convert');\n",
              "        buttonEl.style.display =\n",
              "          google.colab.kernel.accessAllowed ? 'block' : 'none';\n",
              "\n",
              "        async function convertToInteractive(key) {\n",
              "          const element = document.querySelector('#df-a413a3b3-1edc-4fd1-8aab-756c4f0c5a26');\n",
              "          const dataTable =\n",
              "            await google.colab.kernel.invokeFunction('convertToInteractive',\n",
              "                                                     [key], {});\n",
              "          if (!dataTable) return;\n",
              "\n",
              "          const docLinkHtml = 'Like what you see? Visit the ' +\n",
              "            '<a target=\"_blank\" href=https://colab.research.google.com/notebooks/data_table.ipynb>data table notebook</a>'\n",
              "            + ' to learn more about interactive tables.';\n",
              "          element.innerHTML = '';\n",
              "          dataTable['output_type'] = 'display_data';\n",
              "          await google.colab.output.renderOutput(dataTable, element);\n",
              "          const docLink = document.createElement('div');\n",
              "          docLink.innerHTML = docLinkHtml;\n",
              "          element.appendChild(docLink);\n",
              "        }\n",
              "      </script>\n",
              "    </div>\n",
              "  </div>\n",
              "  "
            ]
          },
          "metadata": {},
          "execution_count": 105
        }
      ]
    },
    {
      "cell_type": "code",
      "source": [
        "df_train"
      ],
      "metadata": {
        "colab": {
          "base_uri": "https://localhost:8080/",
          "height": 402
        },
        "id": "VFs3VqDyAojy",
        "outputId": "4f1c26d8-0eb5-4bfb-fe48-fb0bbb2a7715"
      },
      "execution_count": null,
      "outputs": [
        {
          "output_type": "execute_result",
          "data": {
            "text/plain": [
              "                                                   text  target1  target2\n",
              "0        A battery to a bulb . the bulb and the battery        4        4\n",
              "1                                  should connect . are        1        2\n",
              "2                   in a closed path . in a closed path        4        4\n",
              "3                           is connected . is connected        4        4\n",
              "4     to the battery terminal . to the negative batt...        2        3\n",
              "...                                                 ...      ...      ...\n",
              "4069                      at the camera . at the camera        4        4\n",
              "4070                        A small cat . The small dog        1        1\n",
              "4071                                     look . looking        4        4\n",
              "4072                      at the camera . at the camera        4        4\n",
              "4073                    Tan cows . A white and gray cat        1        1\n",
              "\n",
              "[4074 rows x 3 columns]"
            ],
            "text/html": [
              "\n",
              "  <div id=\"df-47ec0719-5826-4782-86f4-196e059959da\">\n",
              "    <div class=\"colab-df-container\">\n",
              "      <div>\n",
              "<style scoped>\n",
              "    .dataframe tbody tr th:only-of-type {\n",
              "        vertical-align: middle;\n",
              "    }\n",
              "\n",
              "    .dataframe tbody tr th {\n",
              "        vertical-align: top;\n",
              "    }\n",
              "\n",
              "    .dataframe thead th {\n",
              "        text-align: right;\n",
              "    }\n",
              "</style>\n",
              "<table border=\"1\" class=\"dataframe\">\n",
              "  <thead>\n",
              "    <tr style=\"text-align: right;\">\n",
              "      <th></th>\n",
              "      <th>text</th>\n",
              "      <th>target1</th>\n",
              "      <th>target2</th>\n",
              "    </tr>\n",
              "  </thead>\n",
              "  <tbody>\n",
              "    <tr>\n",
              "      <th>0</th>\n",
              "      <td>A battery to a bulb . the bulb and the battery</td>\n",
              "      <td>4</td>\n",
              "      <td>4</td>\n",
              "    </tr>\n",
              "    <tr>\n",
              "      <th>1</th>\n",
              "      <td>should connect . are</td>\n",
              "      <td>1</td>\n",
              "      <td>2</td>\n",
              "    </tr>\n",
              "    <tr>\n",
              "      <th>2</th>\n",
              "      <td>in a closed path . in a closed path</td>\n",
              "      <td>4</td>\n",
              "      <td>4</td>\n",
              "    </tr>\n",
              "    <tr>\n",
              "      <th>3</th>\n",
              "      <td>is connected . is connected</td>\n",
              "      <td>4</td>\n",
              "      <td>4</td>\n",
              "    </tr>\n",
              "    <tr>\n",
              "      <th>4</th>\n",
              "      <td>to the battery terminal . to the negative batt...</td>\n",
              "      <td>2</td>\n",
              "      <td>3</td>\n",
              "    </tr>\n",
              "    <tr>\n",
              "      <th>...</th>\n",
              "      <td>...</td>\n",
              "      <td>...</td>\n",
              "      <td>...</td>\n",
              "    </tr>\n",
              "    <tr>\n",
              "      <th>4069</th>\n",
              "      <td>at the camera . at the camera</td>\n",
              "      <td>4</td>\n",
              "      <td>4</td>\n",
              "    </tr>\n",
              "    <tr>\n",
              "      <th>4070</th>\n",
              "      <td>A small cat . The small dog</td>\n",
              "      <td>1</td>\n",
              "      <td>1</td>\n",
              "    </tr>\n",
              "    <tr>\n",
              "      <th>4071</th>\n",
              "      <td>look . looking</td>\n",
              "      <td>4</td>\n",
              "      <td>4</td>\n",
              "    </tr>\n",
              "    <tr>\n",
              "      <th>4072</th>\n",
              "      <td>at the camera . at the camera</td>\n",
              "      <td>4</td>\n",
              "      <td>4</td>\n",
              "    </tr>\n",
              "    <tr>\n",
              "      <th>4073</th>\n",
              "      <td>Tan cows . A white and gray cat</td>\n",
              "      <td>1</td>\n",
              "      <td>1</td>\n",
              "    </tr>\n",
              "  </tbody>\n",
              "</table>\n",
              "<p>4074 rows × 3 columns</p>\n",
              "</div>\n",
              "      <button class=\"colab-df-convert\" onclick=\"convertToInteractive('df-47ec0719-5826-4782-86f4-196e059959da')\"\n",
              "              title=\"Convert this dataframe to an interactive table.\"\n",
              "              style=\"display:none;\">\n",
              "        \n",
              "  <svg xmlns=\"http://www.w3.org/2000/svg\" height=\"24px\"viewBox=\"0 0 24 24\"\n",
              "       width=\"24px\">\n",
              "    <path d=\"M0 0h24v24H0V0z\" fill=\"none\"/>\n",
              "    <path d=\"M18.56 5.44l.94 2.06.94-2.06 2.06-.94-2.06-.94-.94-2.06-.94 2.06-2.06.94zm-11 1L8.5 8.5l.94-2.06 2.06-.94-2.06-.94L8.5 2.5l-.94 2.06-2.06.94zm10 10l.94 2.06.94-2.06 2.06-.94-2.06-.94-.94-2.06-.94 2.06-2.06.94z\"/><path d=\"M17.41 7.96l-1.37-1.37c-.4-.4-.92-.59-1.43-.59-.52 0-1.04.2-1.43.59L10.3 9.45l-7.72 7.72c-.78.78-.78 2.05 0 2.83L4 21.41c.39.39.9.59 1.41.59.51 0 1.02-.2 1.41-.59l7.78-7.78 2.81-2.81c.8-.78.8-2.07 0-2.86zM5.41 20L4 18.59l7.72-7.72 1.47 1.35L5.41 20z\"/>\n",
              "  </svg>\n",
              "      </button>\n",
              "      \n",
              "  <style>\n",
              "    .colab-df-container {\n",
              "      display:flex;\n",
              "      flex-wrap:wrap;\n",
              "      gap: 12px;\n",
              "    }\n",
              "\n",
              "    .colab-df-convert {\n",
              "      background-color: #E8F0FE;\n",
              "      border: none;\n",
              "      border-radius: 50%;\n",
              "      cursor: pointer;\n",
              "      display: none;\n",
              "      fill: #1967D2;\n",
              "      height: 32px;\n",
              "      padding: 0 0 0 0;\n",
              "      width: 32px;\n",
              "    }\n",
              "\n",
              "    .colab-df-convert:hover {\n",
              "      background-color: #E2EBFA;\n",
              "      box-shadow: 0px 1px 2px rgba(60, 64, 67, 0.3), 0px 1px 3px 1px rgba(60, 64, 67, 0.15);\n",
              "      fill: #174EA6;\n",
              "    }\n",
              "\n",
              "    [theme=dark] .colab-df-convert {\n",
              "      background-color: #3B4455;\n",
              "      fill: #D2E3FC;\n",
              "    }\n",
              "\n",
              "    [theme=dark] .colab-df-convert:hover {\n",
              "      background-color: #434B5C;\n",
              "      box-shadow: 0px 1px 3px 1px rgba(0, 0, 0, 0.15);\n",
              "      filter: drop-shadow(0px 1px 2px rgba(0, 0, 0, 0.3));\n",
              "      fill: #FFFFFF;\n",
              "    }\n",
              "  </style>\n",
              "\n",
              "      <script>\n",
              "        const buttonEl =\n",
              "          document.querySelector('#df-47ec0719-5826-4782-86f4-196e059959da button.colab-df-convert');\n",
              "        buttonEl.style.display =\n",
              "          google.colab.kernel.accessAllowed ? 'block' : 'none';\n",
              "\n",
              "        async function convertToInteractive(key) {\n",
              "          const element = document.querySelector('#df-47ec0719-5826-4782-86f4-196e059959da');\n",
              "          const dataTable =\n",
              "            await google.colab.kernel.invokeFunction('convertToInteractive',\n",
              "                                                     [key], {});\n",
              "          if (!dataTable) return;\n",
              "\n",
              "          const docLinkHtml = 'Like what you see? Visit the ' +\n",
              "            '<a target=\"_blank\" href=https://colab.research.google.com/notebooks/data_table.ipynb>data table notebook</a>'\n",
              "            + ' to learn more about interactive tables.';\n",
              "          element.innerHTML = '';\n",
              "          dataTable['output_type'] = 'display_data';\n",
              "          await google.colab.output.renderOutput(dataTable, element);\n",
              "          const docLink = document.createElement('div');\n",
              "          docLink.innerHTML = docLinkHtml;\n",
              "          element.appendChild(docLink);\n",
              "        }\n",
              "      </script>\n",
              "    </div>\n",
              "  </div>\n",
              "  "
            ]
          },
          "metadata": {},
          "execution_count": 150
        }
      ]
    },
    {
      "cell_type": "code",
      "execution_count": null,
      "metadata": {
        "id": "33ESFx8RwZcT"
      },
      "outputs": [],
      "source": [
        "from sklearn.model_selection import train_test_split\n",
        "#df = pd.concat([df_train_headlines, df_train_as, df_train_imgs])\n",
        "\n",
        "df['targets12'] = df['target1'].astype(str) + df['target2'].astype(str)\n",
        "\n",
        "df_train, df_valid = train_test_split(df, test_size=0.2, stratify = df[['targets12']])\n",
        "\n",
        "df_train.drop('targets12', inplace = True, axis = 1)\n",
        "df_valid.drop('targets12', inplace = True, axis = 1)"
      ]
    },
    {
      "cell_type": "code",
      "source": [
        "df_test['target2'].value_counts()"
      ],
      "metadata": {
        "colab": {
          "base_uri": "https://localhost:8080/"
        },
        "id": "kDR2QeNrZfIy",
        "outputId": "1600e6c8-0be5-44a7-df2f-573beb9b20f1"
      },
      "execution_count": null,
      "outputs": [
        {
          "output_type": "execute_result",
          "data": {
            "text/plain": [
              "4    1748\n",
              "3     752\n",
              "2     365\n",
              "1     162\n",
              "0      18\n",
              "Name: target2, dtype: int64"
            ]
          },
          "metadata": {},
          "execution_count": 155
        }
      ]
    },
    {
      "cell_type": "code",
      "execution_count": null,
      "metadata": {
        "id": "rv4V-88KwZcT"
      },
      "outputs": [],
      "source": [
        "# Save preprocessed data\n",
        "df_train.to_csv(root+\"/ists_scores_training.csv\")\n",
        "df_valid.to_csv(root+\"/ists_scores_test.csv\")"
      ]
    },
    {
      "cell_type": "code",
      "execution_count": null,
      "metadata": {
        "colab": {
          "base_uri": "https://localhost:8080/"
        },
        "id": "TgLAq5EUwZcT",
        "outputId": "da251441-0681-45f6-d5cd-9e6d3cf7329a"
      },
      "outputs": [
        {
          "output_type": "stream",
          "name": "stdout",
          "text": [
            "cuda:0\n"
          ]
        }
      ],
      "source": [
        "# Set random seed and set device to GPU.\n",
        "torch.manual_seed(17)\n",
        "\n",
        "if torch.cuda.is_available():\n",
        "    device = torch.device('cuda:0')\n",
        "    torch.backends.cudnn.deterministic = True\n",
        "    torch.backends.cudnn.benchmark = False\n",
        "else:\n",
        "    device = torch.device('cpu')\n",
        "\n",
        "print(device)"
      ]
    },
    {
      "cell_type": "code",
      "execution_count": null,
      "metadata": {
        "id": "s1emMyS9wZcU"
      },
      "outputs": [],
      "source": [
        "# Initialize tokenizer.\n",
        "tokenizer = RobertaTokenizer.from_pretrained(\"roberta-base\")"
      ]
    },
    {
      "cell_type": "code",
      "execution_count": null,
      "metadata": {
        "id": "r9JRntq2QtPC"
      },
      "outputs": [],
      "source": [
        "class Data(Dataset):\n",
        "    def __init__(self, dataframe, tokenizer, max_len):\n",
        "        self.tokenizer = tokenizer\n",
        "        self.data = dataframe\n",
        "        self.text = dataframe.text\n",
        "        self.target1 = self.data.target1\n",
        "        self.target2 = self.data.target2\n",
        "        self.max_len = max_len\n",
        "\n",
        "        self.scores = torch.nn.functional.one_hot(torch.tensor(self.data.target1), num_classes=5).float()\n",
        "        self.types = torch.nn.functional.one_hot(torch.tensor(self.data.target2), num_classes=len(types_map)).float()      \n",
        "\n",
        "\n",
        "    def __len__(self):\n",
        "        return len(self.text)\n",
        "\n",
        "    def __getitem__(self, index):\n",
        "        text = str(self.text[index])\n",
        "        text = \" \".join(text.split())\n",
        "\n",
        "        inputs = self.tokenizer.encode_plus(\n",
        "            text,\n",
        "            None,\n",
        "            add_special_tokens=True,\n",
        "            max_length=self.max_len,\n",
        "            pad_to_max_length=True,\n",
        "            return_token_type_ids=True\n",
        "        )\n",
        "        ids = inputs['input_ids']\n",
        "        mask = inputs['attention_mask']\n",
        "        token_type_ids = inputs[\"token_type_ids\"]\n",
        "\n",
        "\n",
        "        return {\n",
        "            'ids': torch.tensor(ids, dtype=torch.long),\n",
        "            'mask': torch.tensor(mask, dtype=torch.long),\n",
        "            'token_type_ids': torch.tensor(token_type_ids, dtype=torch.long),\n",
        "            'targets': (self.scores[index], self.types[index])\n",
        "        }"
      ]
    },
    {
      "cell_type": "code",
      "source": [
        "MAX_LEN = 256\n",
        "\n",
        "train_data = df_train.reset_index(drop=True)\n",
        "valid_data = df_valid.reset_index(drop=True)\n",
        "test_data = df_test.reset_index(drop=True)\n",
        "\n",
        "print(\"TRAIN Dataset: {}\".format(train_data.shape))\n",
        "print(\"VALID Dataset: {}\".format(valid_data.shape))\n",
        "print(\"TEST Dataset: {}\".format(test_data.shape))\n",
        "\n",
        "training_set = Data(train_data, tokenizer, MAX_LEN)\n",
        "valid_set = Data(valid_data, tokenizer, MAX_LEN)\n",
        "testing_set = Data(test_data, tokenizer, MAX_LEN)"
      ],
      "metadata": {
        "colab": {
          "base_uri": "https://localhost:8080/"
        },
        "id": "2nQrl9K3Itvo",
        "outputId": "85308d74-0718-4abb-d42c-debf61b42cc2"
      },
      "execution_count": null,
      "outputs": [
        {
          "output_type": "stream",
          "name": "stdout",
          "text": [
            "TRAIN Dataset: (2352, 8)\n",
            "VALID Dataset: (589, 8)\n",
            "TEST Dataset: (3045, 3)\n"
          ]
        }
      ]
    },
    {
      "cell_type": "code",
      "source": [
        "class_value_counts1 = pd.DataFrame(train_data['target1']).value_counts(sort=False)\n",
        "    # odwrotne wagowanie klas\n",
        "weights1 = ((1/class_value_counts1.values) / np.sum(1/class_value_counts1.values ))\n",
        "print(weights1)\n",
        "class_weights1 = torch.FloatTensor(weights1).cuda()\n",
        "\n",
        "\n",
        "class_value_counts2 = pd.DataFrame(train_data['target2']).value_counts(sort=False)\n",
        "    # odwrotne wagowanie klas\n",
        "weights2 = ((1/class_value_counts2.values) / np.sum(1/class_value_counts2.values ))\n",
        "print(weights2)\n",
        "class_weights2 = torch.FloatTensor(weights2).cuda()\n",
        "\n",
        "class_weights = merged = torch.cat((class_weights1, class_weights2))\n",
        "\n",
        "print(class_weights2)"
      ],
      "metadata": {
        "colab": {
          "base_uri": "https://localhost:8080/"
        },
        "id": "dF48JDfzD-UK",
        "outputId": "88041efe-6895-4ee1-f5dd-4ea5782ba24f"
      },
      "execution_count": null,
      "outputs": [
        {
          "output_type": "stream",
          "name": "stdout",
          "text": [
            "[0.76480327 0.12048271 0.06765567 0.03462692 0.01243143]\n",
            "[0.01491312 0.06365025 0.09921072 0.09148002 0.17464367 0.55610222]\n",
            "tensor([0.0149, 0.0637, 0.0992, 0.0915, 0.1746, 0.5561], device='cuda:0')\n"
          ]
        }
      ]
    },
    {
      "cell_type": "code",
      "execution_count": null,
      "metadata": {
        "id": "CQLlgDfJwZcV"
      },
      "outputs": [],
      "source": [
        "def save_metrics(path, train_loss_list, valid_loss_list, global_steps_list):   \n",
        "    state_dict = {'train_loss_list': train_loss_list,\n",
        "                  'valid_loss_list': valid_loss_list,\n",
        "                  'global_steps_list': global_steps_list}\n",
        "    torch.save(state_dict, path)\n",
        "    \n",
        "\n",
        "def load_metrics(path):    \n",
        "    state_dict = torch.load(path, map_location=device)\n",
        "    return state_dict['train_loss_list'], state_dict['valid_loss_list'], state_dict['global_steps_list']"
      ]
    },
    {
      "cell_type": "code",
      "execution_count": null,
      "metadata": {
        "id": "WDCO6ocXwZcV"
      },
      "outputs": [],
      "source": [
        "class RobertaClass(torch.nn.Module):\n",
        "    def __init__(self, roberta_path = None, roberta_model = None):\n",
        "        NUM_OUTPUTS = 11\n",
        "        super(RobertaClass, self).__init__()\n",
        "        if roberta_path:\n",
        "          self.l1 = torch.load(roberta_path)\n",
        "        if roberta_model:\n",
        "          self.l1 = roberta_model\n",
        "        else:\n",
        "          self.l1 = RobertaModel.from_pretrained(\"roberta-base\")\n",
        "\n",
        "        self.pre_classifier = torch.nn.Linear(768, 768)\n",
        "        self.dropout = torch.nn.Dropout(0.3)\n",
        "        self.classifier = torch.nn.Linear(768, 5)\n",
        "\n",
        "        self.pre_classifier2 = torch.nn.Linear(768, 768)\n",
        "        self.dropout2 = torch.nn.Dropout(0.3)\n",
        "        self.classifier2 = torch.nn.Linear(768, 6)\n",
        "\n",
        "    def save_roberta(self, path):\n",
        "        torch.save(self.l1, path)\n",
        "\n",
        "    def save_model(self, path):\n",
        "        torch.save(self, path)\n",
        "\n",
        "    def forward(self, input_ids, attention_mask, token_type_ids):\n",
        "        output_1 = self.l1(input_ids=input_ids, attention_mask=attention_mask, token_type_ids=token_type_ids)\n",
        "        hidden_state = output_1[0]\n",
        "        x = hidden_state[:, 0]\n",
        "\n",
        "        x1 = self.pre_classifier(x)\n",
        "        x1 = torch.nn.ReLU()(x1)\n",
        "        x1 = self.dropout(x1)\n",
        "        output1 = self.classifier(x1)\n",
        "        #output1 = F.softmax(output1, dim=1)  # Applying softmax\n",
        "\n",
        "        x2 = self.pre_classifier2(x)\n",
        "        x2 = torch.nn.ReLU()(x2)\n",
        "        x2 = self.dropout2(x2)\n",
        "        output2 = self.classifier2(x2)\n",
        "        #output2 = F.softmax(output2, dim=1)  # Applying softmax\n",
        "\n",
        "\n",
        "        return output1, output2"
      ]
    },
    {
      "cell_type": "code",
      "source": [
        "def loss_fun(y_score, pred_score, y_type, pred_type):\n",
        "  loss_fun1 = torch.nn.CrossEntropyLoss(weight= class_weights1)\n",
        "  loss_fun2 = torch.nn.CrossEntropyLoss(weight= class_weights2)\n",
        "\n",
        "  loss1  = loss_fun1(pred_score, y_score)\n",
        "  loss2 = loss_fun2(pred_type, y_type)\n",
        "\n",
        "  return loss1 + loss2"
      ],
      "metadata": {
        "id": "DNgafvF-IJZm"
      },
      "execution_count": null,
      "outputs": []
    },
    {
      "cell_type": "code",
      "execution_count": null,
      "metadata": {
        "id": "AssziEDNwZcW"
      },
      "outputs": [],
      "source": [
        "import torch.nn.functional as F\n",
        "\n",
        "def flattentensor(t):\n",
        "  return t.view(t.size(0), -1)\n",
        "\n",
        "def transfer_learning(model, \n",
        "             optimizer, \n",
        "             training_loader, \n",
        "             valid_loader, \n",
        "             scheduler = None,\n",
        "             valid_period = 0,\n",
        "             num_epochs = 5):\n",
        "    # na wszelki wypadek\n",
        "    for param in model.l1.parameters():\n",
        "      param.requires_grad = False\n",
        "    \n",
        "    model.train()\n",
        "    valid_period = len(training_loader)\n",
        "    # Initialize losses and loss histories\n",
        "    train_loss = 0.0\n",
        "    valid_loss = 0.0\n",
        "    train_loss_list = []\n",
        "    valid_loss_list = []\n",
        "    best_valid_loss = float('Inf')\n",
        "    \n",
        "    global_step = 0\n",
        "    global_steps_list = []\n",
        "\n",
        "    vlosfun1 = torch.nn.CrossEntropyLoss(weight= class_weights1)\n",
        "    vlosfun2 = torch.nn.CrossEntropyLoss(weight= class_weights2)\n",
        "    \n",
        "    # Train loop\n",
        "    for epoch in range(num_epochs):\n",
        "        for _,data in tqdm(enumerate(training_loader, 0)):\n",
        "            ids = data['ids'].to(device, dtype = torch.long)\n",
        "            mask = data['mask'].to(device, dtype = torch.long)\n",
        "            token_type_ids = data['token_type_ids'].to(device, dtype = torch.long)\n",
        "\n",
        "            y_score = data['targets'][0].to(device, dtype = torch.float)\n",
        "            y_type = data['targets'][1].to(device, dtype = torch.float)\n",
        "\n",
        "            pred_score, pred_type = model(ids, mask, token_type_ids)\n",
        "      \n",
        "            \n",
        "            loss = loss_fun(y_score, pred_score, y_type, pred_type)\n",
        "                        \n",
        "   \n",
        "            loss.backward()\n",
        "            \n",
        "            # Optimizer and scheduler step\n",
        "            optimizer.step() \n",
        "            if scheduler is not None:   \n",
        "              scheduler.step()\n",
        "                \n",
        "            optimizer.zero_grad()\n",
        "            \n",
        "            # Update train loss and global step\n",
        "            train_loss += loss.item()\n",
        "            global_step += 1\n",
        "\n",
        "            # Validation loop. Save progress and evaluate model performance.\n",
        "            if global_step % valid_period == 0:\n",
        "                model.eval()\n",
        "                valid_loss = 0.0\n",
        "                with torch.no_grad():\n",
        "                                        \n",
        "                    for _,vdata in tqdm(enumerate(valid_loader, 0)):\n",
        "                        vids = vdata['ids'].to(device, dtype = torch.long)\n",
        "                        vmask = vdata['mask'].to(device, dtype = torch.long)\n",
        "                        vtoken_type_ids = vdata['token_type_ids'].to(device, dtype = torch.long)\n",
        "              \n",
        "\n",
        "                        vy_score = vdata['targets'][0].to(device, dtype = torch.float)\n",
        "                        vy_type = vdata['targets'][1].to(device, dtype = torch.float)\n",
        "\n",
        "                        vpred_score, vpred_type = model(ids, mask, token_type_ids)\n",
        "\n",
        "                        # print('vy_score.shape')\n",
        "                        # print(vy_score.shape)\n",
        "\n",
        "                        # print('vy_type.shape')\n",
        "                        # print(vy_type.shape)\n",
        "\n",
        "                        # print('vpred_score.shape')\n",
        "                        # print(vpred_score.shape)\n",
        "\n",
        "                        # print('vpred_type.shape')\n",
        "                        # print(vpred_type.shape)\n",
        "\n",
        "                        # Pad the last batch if its size is different\n",
        "                        if vpred_score.size(0) == vy_score.size(0):\n",
        "            \n",
        "                            vloss = vlosfun1(vy_score, vpred_score) + vlosfun2(vy_type, vpred_type)\n",
        "\n",
        "\n",
        "                            # print('vloss score: ',vlosfun1(vy_score, vpred_score))\n",
        "                            # print('vloss type: ',vlosfun2(vy_type, vpred_type))\n",
        "                          \n",
        "                            valid_loss += vloss.item()\n",
        "\n",
        "                # Store train and validation loss history\n",
        "                train_loss = train_loss / len(training_loader)\n",
        "                valid_loss = valid_loss / len(valid_loader)\n",
        "\n",
        "                train_loss_list.append(train_loss)\n",
        "                valid_loss_list.append(valid_loss)\n",
        "                global_steps_list.append(global_step)\n",
        "                \n",
        "                # print summary\n",
        "                print('Epoch [{}/{}], global step [{}/{}], PT Loss: {:.4f}, Val Loss: {:.4f}'\n",
        "                      .format(epoch+1, num_epochs, global_step, num_epochs*len(training_loader),\n",
        "                              train_loss, valid_loss))\n",
        "                \n",
        "                # checkpoint\n",
        "                if best_valid_loss > valid_loss:\n",
        "                    best_valid_loss = valid_loss\n",
        "                    print(\"Saving roberta model {}\".format(valid_loss))\n",
        "                    #model.save_roberta(path = root + '/'+experiment_name+'_roberta_classifier')\n",
        "                    #model.save_model(path = root + '/'+experiment_name+'_roberta_classifier')\n",
        "                train_loss = 0.0                \n",
        "                valid_loss = 0.0\n",
        "                model.train()\n",
        "\n",
        "                \n",
        "\n",
        "\n",
        "        save_metrics(root + '/'+experiment_name+'_pretrain_metric.pkl', train_loss_list, valid_loss_list, global_steps_list)\n",
        "    # #Set bert parameters back to trainable\n",
        "    # for param in model.l1.parameters():\n",
        "    #     param.requires_grad = True\n",
        "        \n",
        "    print('Pre-training done!')"
      ]
    },
    {
      "cell_type": "code",
      "source": [
        "train_params = {'batch_size': 16,\n",
        "                'shuffle': True,\n",
        "                'num_workers': 0\n",
        "                }\n",
        "\n",
        "test_params = {'batch_size': 16,\n",
        "                'shuffle': True,\n",
        "                'num_workers': 0\n",
        "                }\n",
        "\n",
        "training_loader = DataLoader(training_set, **train_params)\n",
        "valid_loader = DataLoader(valid_set, **test_params)"
      ],
      "metadata": {
        "id": "suuRCTMud2iq"
      },
      "execution_count": null,
      "outputs": []
    },
    {
      "cell_type": "code",
      "source": [
        "models_root = '/content/drive/My Drive/stud/nlp/'\n",
        "\n",
        "roberta_path = models_root+'/roberta_base_class_weights'\n",
        "roberta1 = torch.load(models_root+'/roberta_base_class_weights')\n",
        "model1 = RobertaClass(roberta_path = roberta_path)\n",
        "model1 = model1.to(device)\n",
        "\n",
        "# roberta_unsupervised = RobertaModel.from_pretrained(models_root+'roberta-unsupervised/')\n",
        "# model2 = RobertaClass(roberta_model = roberta_unsupervised)\n",
        "# model2 = model2.to(device)\n",
        "\n",
        "experiment_name = \"RobertaPreatrainedClassificationTypes\"\n",
        "\n",
        "\n",
        "#baseline = RobertaClass()\n",
        "#baseline = baseline.to(device)\n",
        "\n",
        "model = model1"
      ],
      "metadata": {
        "colab": {
          "base_uri": "https://localhost:8080/"
        },
        "id": "L4egb1JuaWp_",
        "outputId": "625fd468-226a-4348-c90a-55be5be71a56"
      },
      "execution_count": null,
      "outputs": [
        {
          "output_type": "stream",
          "name": "stderr",
          "text": [
            "Some weights of the model checkpoint at roberta-base were not used when initializing RobertaModel: ['lm_head.decoder.weight', 'lm_head.dense.bias', 'lm_head.dense.weight', 'lm_head.bias', 'lm_head.layer_norm.bias', 'lm_head.layer_norm.weight']\n",
            "- This IS expected if you are initializing RobertaModel from the checkpoint of a model trained on another task or with another architecture (e.g. initializing a BertForSequenceClassification model from a BertForPreTraining model).\n",
            "- This IS NOT expected if you are initializing RobertaModel from the checkpoint of a model that you expect to be exactly identical (initializing a BertForSequenceClassification model from a BertForSequenceClassification model).\n"
          ]
        }
      ]
    },
    {
      "cell_type": "markdown",
      "source": [
        "Transfer Learning"
      ],
      "metadata": {
        "id": "qN_OQ5_kQymi"
      }
    },
    {
      "cell_type": "code",
      "source": [
        "\n",
        "# Fine tune \n",
        "NUM_EPOCHS = 10\n",
        "steps_per_epoch = len(training_loader)\n",
        "\n",
        "\n",
        "\n",
        "LR = 1e-5\n",
        "\n",
        "param_optimizer = list(model.named_parameters())\n",
        "no_decay = [\"bias\", \"LayerNorm.bias\", \"LayerNorm.weight\"]\n",
        "optimizer_parameters = [\n",
        "    {'params': [p for n, p in param_optimizer if not any(nd in n for nd in no_decay)], 'weight_decay': 0.0001},\n",
        "    {'params': [p for n, p in param_optimizer if any(nd in n for nd in no_decay)], 'weight_decay': 0.0},\n",
        "        ]  \n",
        "    \n",
        "optimizer = AdamW(model.parameters(),  lr=LR)\n",
        "\n",
        "scheduler = get_linear_schedule_with_warmup(optimizer, \n",
        "                                            num_warmup_steps=steps_per_epoch*1, \n",
        "                                            num_training_steps=steps_per_epoch*NUM_EPOCHS)\n",
        "\n",
        "\n",
        "transfer_learning(model=model,\n",
        "         training_loader=training_loader,\n",
        "         valid_loader=valid_loader,\n",
        "          scheduler = scheduler,\n",
        "         optimizer=optimizer,\n",
        "         num_epochs=NUM_EPOCHS)"
      ],
      "metadata": {
        "colab": {
          "base_uri": "https://localhost:8080/"
        },
        "id": "qp4Kwr6RPod5",
        "outputId": "b48a3299-e495-4ae9-f752-2baa776b2596"
      },
      "execution_count": null,
      "outputs": [
        {
          "output_type": "stream",
          "name": "stderr",
          "text": [
            "/usr/local/lib/python3.10/dist-packages/transformers/optimization.py:306: FutureWarning: This implementation of AdamW is deprecated and will be removed in a future version. Use the PyTorch implementation torch.optim.AdamW instead, or set `no_deprecation_warning=True` to disable this warning\n",
            "  warnings.warn(\n",
            "0it [00:00, ?it/s]/usr/local/lib/python3.10/dist-packages/transformers/tokenization_utils_base.py:2336: FutureWarning: The `pad_to_max_length` argument is deprecated and will be removed in a future version, use `padding=True` or `padding='longest'` to pad to the longest sequence in the batch, or use `padding='max_length'` to pad to a max length. In this case, you can give a specific length with `max_length` (e.g. `max_length=45`) or leave max_length to None to pad to the maximal input size of the model (e.g. 512 for Bert).\n",
            "  warnings.warn(\n",
            "146it [00:33,  4.29it/s]\n",
            "0it [00:00, ?it/s]\u001b[A\n",
            "1it [00:00,  4.97it/s]\u001b[A\n",
            "2it [00:00,  4.83it/s]\u001b[A\n",
            "3it [00:00,  4.79it/s]\u001b[A\n",
            "4it [00:00,  4.78it/s]\u001b[A\n",
            "5it [00:01,  4.75it/s]\u001b[A\n",
            "6it [00:01,  4.75it/s]\u001b[A\n",
            "7it [00:01,  4.76it/s]\u001b[A\n",
            "8it [00:01,  4.76it/s]\u001b[A\n",
            "9it [00:01,  4.77it/s]\u001b[A\n",
            "10it [00:02,  4.76it/s]\u001b[A\n",
            "11it [00:02,  4.75it/s]\u001b[A\n",
            "12it [00:02,  4.75it/s]\u001b[A\n",
            "13it [00:02,  4.77it/s]\u001b[A\n",
            "14it [00:02,  4.78it/s]\u001b[A\n",
            "15it [00:03,  4.76it/s]\u001b[A\n",
            "16it [00:03,  4.77it/s]\u001b[A\n",
            "17it [00:03,  4.78it/s]\u001b[A\n",
            "18it [00:03,  4.76it/s]\u001b[A\n",
            "19it [00:03,  4.75it/s]\u001b[A\n",
            "20it [00:04,  4.76it/s]\u001b[A\n",
            "21it [00:04,  4.77it/s]\u001b[A\n",
            "22it [00:04,  4.79it/s]\u001b[A\n",
            "23it [00:04,  4.77it/s]\u001b[A\n",
            "24it [00:05,  4.75it/s]\u001b[A\n",
            "25it [00:05,  4.75it/s]\u001b[A\n",
            "26it [00:05,  4.77it/s]\u001b[A\n",
            "27it [00:05,  4.79it/s]\u001b[A\n",
            "28it [00:05,  4.76it/s]\u001b[A\n",
            "29it [00:06,  4.79it/s]\u001b[A\n",
            "30it [00:06,  4.78it/s]\u001b[A\n",
            "31it [00:06,  4.78it/s]\u001b[A\n",
            "32it [00:06,  4.80it/s]\u001b[A\n",
            "33it [00:06,  4.79it/s]\u001b[A\n",
            "34it [00:07,  4.79it/s]\u001b[A\n",
            "35it [00:07,  4.78it/s]\u001b[A\n",
            "37it [00:07,  4.89it/s]\n",
            "147it [00:41,  3.53it/s]\n"
          ]
        },
        {
          "output_type": "stream",
          "name": "stdout",
          "text": [
            "Epoch [1/10], global step [147/1470], PT Loss: 0.1573, Val Loss: -0.1339\n",
            "Saving roberta model -0.13393945790625908\n"
          ]
        },
        {
          "output_type": "stream",
          "name": "stderr",
          "text": [
            "146it [00:33,  4.42it/s]\n",
            "0it [00:00, ?it/s]\u001b[A\n",
            "1it [00:00,  5.03it/s]\u001b[A\n",
            "2it [00:00,  4.95it/s]\u001b[A\n",
            "3it [00:00,  4.94it/s]\u001b[A\n",
            "4it [00:00,  4.88it/s]\u001b[A\n",
            "5it [00:01,  4.88it/s]\u001b[A\n",
            "6it [00:01,  4.88it/s]\u001b[A\n",
            "7it [00:01,  4.90it/s]\u001b[A\n",
            "8it [00:01,  4.90it/s]\u001b[A\n",
            "9it [00:01,  4.89it/s]\u001b[A\n",
            "10it [00:02,  4.90it/s]\u001b[A\n",
            "11it [00:02,  4.88it/s]\u001b[A\n",
            "12it [00:02,  4.88it/s]\u001b[A\n",
            "13it [00:02,  4.89it/s]\u001b[A\n",
            "14it [00:02,  4.87it/s]\u001b[A\n",
            "15it [00:03,  4.87it/s]\u001b[A\n",
            "16it [00:03,  4.87it/s]\u001b[A\n",
            "17it [00:03,  4.87it/s]\u001b[A\n",
            "18it [00:03,  4.85it/s]\u001b[A\n",
            "19it [00:03,  4.83it/s]\u001b[A\n",
            "20it [00:04,  4.84it/s]\u001b[A\n",
            "21it [00:04,  4.85it/s]\u001b[A\n",
            "22it [00:04,  4.84it/s]\u001b[A\n",
            "23it [00:04,  4.84it/s]\u001b[A\n",
            "24it [00:04,  4.83it/s]\u001b[A\n",
            "25it [00:05,  4.85it/s]\u001b[A\n",
            "26it [00:05,  4.86it/s]\u001b[A\n",
            "27it [00:05,  4.88it/s]\u001b[A\n",
            "28it [00:05,  4.88it/s]\u001b[A\n",
            "29it [00:05,  4.88it/s]\u001b[A\n",
            "30it [00:06,  4.89it/s]\u001b[A\n",
            "31it [00:06,  4.88it/s]\u001b[A\n",
            "32it [00:06,  4.89it/s]\u001b[A\n",
            "33it [00:06,  4.88it/s]\u001b[A\n",
            "34it [00:06,  4.87it/s]\u001b[A\n",
            "35it [00:07,  4.88it/s]\u001b[A\n",
            "37it [00:07,  4.99it/s]\n",
            "147it [00:40,  3.59it/s]\n"
          ]
        },
        {
          "output_type": "stream",
          "name": "stdout",
          "text": [
            "Epoch [2/10], global step [294/1470], PT Loss: 0.1574, Val Loss: -0.1302\n"
          ]
        },
        {
          "output_type": "stream",
          "name": "stderr",
          "text": [
            "146it [00:33,  4.36it/s]\n",
            "0it [00:00, ?it/s]\u001b[A\n",
            "1it [00:00,  4.93it/s]\u001b[A\n",
            "2it [00:00,  4.88it/s]\u001b[A\n",
            "3it [00:00,  4.84it/s]\u001b[A\n",
            "4it [00:00,  4.86it/s]\u001b[A\n",
            "5it [00:01,  4.81it/s]\u001b[A\n",
            "6it [00:01,  4.81it/s]\u001b[A\n",
            "7it [00:01,  4.82it/s]\u001b[A\n",
            "8it [00:01,  4.81it/s]\u001b[A\n",
            "9it [00:01,  4.80it/s]\u001b[A\n",
            "10it [00:02,  4.77it/s]\u001b[A\n",
            "11it [00:02,  4.80it/s]\u001b[A\n",
            "12it [00:02,  4.81it/s]\u001b[A\n",
            "13it [00:02,  4.81it/s]\u001b[A\n",
            "14it [00:02,  4.79it/s]\u001b[A\n",
            "15it [00:03,  4.82it/s]\u001b[A\n",
            "16it [00:03,  4.80it/s]\u001b[A\n",
            "17it [00:03,  4.80it/s]\u001b[A\n",
            "18it [00:03,  4.80it/s]\u001b[A\n",
            "19it [00:03,  4.79it/s]\u001b[A\n",
            "20it [00:04,  4.81it/s]\u001b[A\n",
            "21it [00:04,  4.81it/s]\u001b[A\n",
            "22it [00:04,  4.82it/s]\u001b[A\n",
            "23it [00:04,  4.80it/s]\u001b[A\n",
            "24it [00:04,  4.82it/s]\u001b[A\n",
            "25it [00:05,  4.83it/s]\u001b[A\n",
            "26it [00:05,  4.84it/s]\u001b[A\n",
            "27it [00:05,  4.82it/s]\u001b[A\n",
            "28it [00:05,  4.80it/s]\u001b[A\n",
            "29it [00:06,  4.82it/s]\u001b[A\n",
            "30it [00:06,  4.83it/s]\u001b[A\n",
            "31it [00:06,  4.83it/s]\u001b[A\n",
            "32it [00:06,  4.83it/s]\u001b[A\n",
            "33it [00:06,  4.81it/s]\u001b[A\n",
            "34it [00:07,  4.82it/s]\u001b[A\n",
            "35it [00:07,  4.82it/s]\u001b[A\n",
            "37it [00:07,  4.94it/s]\n",
            "147it [00:41,  3.58it/s]\n"
          ]
        },
        {
          "output_type": "stream",
          "name": "stdout",
          "text": [
            "Epoch [3/10], global step [441/1470], PT Loss: 0.1575, Val Loss: -0.1207\n"
          ]
        },
        {
          "output_type": "stream",
          "name": "stderr",
          "text": [
            "146it [00:33,  4.42it/s]\n",
            "0it [00:00, ?it/s]\u001b[A\n",
            "1it [00:00,  5.06it/s]\u001b[A\n",
            "2it [00:00,  4.93it/s]\u001b[A\n",
            "3it [00:00,  4.92it/s]\u001b[A\n",
            "4it [00:00,  4.93it/s]\u001b[A\n",
            "5it [00:01,  4.88it/s]\u001b[A\n",
            "6it [00:01,  4.85it/s]\u001b[A\n",
            "7it [00:01,  4.85it/s]\u001b[A\n",
            "8it [00:01,  4.86it/s]\u001b[A\n",
            "9it [00:01,  4.88it/s]\u001b[A\n",
            "10it [00:02,  4.88it/s]\u001b[A\n",
            "11it [00:02,  4.84it/s]\u001b[A\n",
            "12it [00:02,  4.82it/s]\u001b[A\n",
            "13it [00:02,  4.84it/s]\u001b[A\n",
            "14it [00:02,  4.85it/s]\u001b[A\n",
            "15it [00:03,  4.85it/s]\u001b[A\n",
            "16it [00:03,  4.84it/s]\u001b[A\n",
            "17it [00:03,  4.83it/s]\u001b[A\n",
            "18it [00:03,  4.84it/s]\u001b[A\n",
            "19it [00:03,  4.86it/s]\u001b[A\n",
            "20it [00:04,  4.86it/s]\u001b[A\n",
            "21it [00:04,  4.84it/s]\u001b[A\n",
            "22it [00:04,  4.80it/s]\u001b[A\n",
            "23it [00:04,  4.80it/s]\u001b[A\n",
            "24it [00:04,  4.80it/s]\u001b[A\n",
            "25it [00:05,  4.80it/s]\u001b[A\n",
            "26it [00:05,  4.82it/s]\u001b[A\n",
            "27it [00:05,  4.82it/s]\u001b[A\n",
            "28it [00:05,  4.81it/s]\u001b[A\n",
            "29it [00:05,  4.83it/s]\u001b[A\n",
            "30it [00:06,  4.84it/s]\u001b[A\n",
            "31it [00:06,  4.86it/s]\u001b[A\n",
            "32it [00:06,  4.86it/s]\u001b[A\n",
            "33it [00:06,  4.85it/s]\u001b[A\n",
            "34it [00:07,  4.83it/s]\u001b[A\n",
            "35it [00:07,  4.83it/s]\u001b[A\n",
            "37it [00:07,  4.96it/s]\n",
            "147it [00:41,  3.58it/s]\n"
          ]
        },
        {
          "output_type": "stream",
          "name": "stdout",
          "text": [
            "Epoch [4/10], global step [588/1470], PT Loss: 0.1569, Val Loss: -0.1201\n"
          ]
        },
        {
          "output_type": "stream",
          "name": "stderr",
          "text": [
            "146it [00:33,  4.41it/s]\n",
            "0it [00:00, ?it/s]\u001b[A\n",
            "1it [00:00,  5.08it/s]\u001b[A\n",
            "2it [00:00,  4.96it/s]\u001b[A\n",
            "3it [00:00,  4.91it/s]\u001b[A\n",
            "4it [00:00,  4.89it/s]\u001b[A\n",
            "5it [00:01,  4.88it/s]\u001b[A\n",
            "6it [00:01,  4.87it/s]\u001b[A\n",
            "7it [00:01,  4.86it/s]\u001b[A\n",
            "8it [00:01,  4.87it/s]\u001b[A\n",
            "9it [00:01,  4.86it/s]\u001b[A\n",
            "10it [00:02,  4.85it/s]\u001b[A\n",
            "11it [00:02,  4.87it/s]\u001b[A\n",
            "12it [00:02,  4.88it/s]\u001b[A\n",
            "13it [00:02,  4.89it/s]\u001b[A\n",
            "14it [00:02,  4.89it/s]\u001b[A\n",
            "15it [00:03,  4.87it/s]\u001b[A\n",
            "16it [00:03,  4.87it/s]\u001b[A\n",
            "17it [00:03,  4.86it/s]\u001b[A\n",
            "18it [00:03,  4.85it/s]\u001b[A\n",
            "19it [00:03,  4.86it/s]\u001b[A\n",
            "20it [00:04,  4.86it/s]\u001b[A\n",
            "21it [00:04,  4.85it/s]\u001b[A\n",
            "22it [00:04,  4.81it/s]\u001b[A\n",
            "23it [00:04,  4.84it/s]\u001b[A\n",
            "24it [00:04,  4.85it/s]\u001b[A\n",
            "25it [00:05,  4.79it/s]\u001b[A\n",
            "26it [00:05,  4.82it/s]\u001b[A\n",
            "27it [00:05,  4.84it/s]\u001b[A\n",
            "28it [00:05,  4.83it/s]\u001b[A\n",
            "29it [00:05,  4.82it/s]\u001b[A\n",
            "30it [00:06,  4.83it/s]\u001b[A\n",
            "31it [00:06,  4.82it/s]\u001b[A\n",
            "32it [00:06,  4.83it/s]\u001b[A\n",
            "33it [00:06,  4.83it/s]\u001b[A\n",
            "34it [00:07,  4.83it/s]\u001b[A\n",
            "35it [00:07,  4.83it/s]\u001b[A\n",
            "37it [00:07,  4.97it/s]\n",
            "147it [00:40,  3.59it/s]\n"
          ]
        },
        {
          "output_type": "stream",
          "name": "stdout",
          "text": [
            "Epoch [5/10], global step [735/1470], PT Loss: 0.1566, Val Loss: -0.1119\n"
          ]
        },
        {
          "output_type": "stream",
          "name": "stderr",
          "text": [
            "146it [00:33,  4.42it/s]\n",
            "0it [00:00, ?it/s]\u001b[A\n",
            "1it [00:00,  5.00it/s]\u001b[A\n",
            "2it [00:00,  4.92it/s]\u001b[A\n",
            "3it [00:00,  4.92it/s]\u001b[A\n",
            "4it [00:00,  4.91it/s]\u001b[A\n",
            "5it [00:01,  4.87it/s]\u001b[A\n",
            "6it [00:01,  4.86it/s]\u001b[A\n",
            "7it [00:01,  4.85it/s]\u001b[A\n",
            "8it [00:01,  4.86it/s]\u001b[A\n",
            "9it [00:01,  4.87it/s]\u001b[A\n",
            "10it [00:02,  4.86it/s]\u001b[A\n",
            "11it [00:02,  4.86it/s]\u001b[A\n",
            "12it [00:02,  4.84it/s]\u001b[A\n",
            "13it [00:02,  4.83it/s]\u001b[A\n",
            "14it [00:02,  4.82it/s]\u001b[A\n",
            "15it [00:03,  4.82it/s]\u001b[A\n",
            "16it [00:03,  4.83it/s]\u001b[A\n",
            "17it [00:03,  4.85it/s]\u001b[A\n",
            "18it [00:03,  4.85it/s]\u001b[A\n",
            "19it [00:03,  4.86it/s]\u001b[A\n",
            "20it [00:04,  4.85it/s]\u001b[A\n",
            "21it [00:04,  4.86it/s]\u001b[A\n",
            "22it [00:04,  4.84it/s]\u001b[A\n",
            "23it [00:04,  4.84it/s]\u001b[A\n",
            "24it [00:04,  4.84it/s]\u001b[A\n",
            "25it [00:05,  4.82it/s]\u001b[A\n",
            "26it [00:05,  4.83it/s]\u001b[A\n",
            "27it [00:05,  4.83it/s]\u001b[A\n",
            "28it [00:05,  4.84it/s]\u001b[A\n",
            "29it [00:05,  4.84it/s]\u001b[A\n",
            "30it [00:06,  4.83it/s]\u001b[A\n",
            "31it [00:06,  4.82it/s]\u001b[A\n",
            "32it [00:06,  4.82it/s]\u001b[A\n",
            "33it [00:06,  4.82it/s]\u001b[A\n",
            "34it [00:07,  4.82it/s]\u001b[A\n",
            "35it [00:07,  4.82it/s]\u001b[A\n",
            "37it [00:07,  4.96it/s]\n",
            "147it [00:41,  3.58it/s]\n"
          ]
        },
        {
          "output_type": "stream",
          "name": "stdout",
          "text": [
            "Epoch [6/10], global step [882/1470], PT Loss: 0.1568, Val Loss: -0.1083\n"
          ]
        },
        {
          "output_type": "stream",
          "name": "stderr",
          "text": [
            "146it [00:33,  4.37it/s]\n",
            "0it [00:00, ?it/s]\u001b[A\n",
            "1it [00:00,  4.97it/s]\u001b[A\n",
            "2it [00:00,  4.92it/s]\u001b[A\n",
            "3it [00:00,  4.89it/s]\u001b[A\n",
            "4it [00:00,  4.87it/s]\u001b[A\n",
            "5it [00:01,  4.84it/s]\u001b[A\n",
            "6it [00:01,  4.83it/s]\u001b[A\n",
            "7it [00:01,  4.83it/s]\u001b[A\n",
            "8it [00:01,  4.84it/s]\u001b[A\n",
            "9it [00:01,  4.83it/s]\u001b[A\n",
            "10it [00:02,  4.83it/s]\u001b[A\n",
            "11it [00:02,  4.84it/s]\u001b[A\n",
            "12it [00:02,  4.82it/s]\u001b[A\n",
            "13it [00:02,  4.82it/s]\u001b[A\n",
            "14it [00:02,  4.84it/s]\u001b[A\n",
            "15it [00:03,  4.83it/s]\u001b[A\n",
            "16it [00:03,  4.83it/s]\u001b[A\n",
            "17it [00:03,  4.83it/s]\u001b[A\n",
            "18it [00:03,  4.83it/s]\u001b[A\n",
            "19it [00:03,  4.82it/s]\u001b[A\n",
            "20it [00:04,  4.81it/s]\u001b[A\n",
            "21it [00:04,  4.83it/s]\u001b[A\n",
            "22it [00:04,  4.74it/s]\u001b[A\n",
            "23it [00:04,  4.78it/s]\u001b[A\n",
            "24it [00:04,  4.79it/s]\u001b[A\n",
            "25it [00:05,  4.80it/s]\u001b[A\n",
            "26it [00:05,  4.80it/s]\u001b[A\n",
            "27it [00:05,  4.78it/s]\u001b[A\n",
            "28it [00:05,  4.82it/s]\u001b[A\n",
            "29it [00:06,  4.84it/s]\u001b[A\n",
            "30it [00:06,  4.85it/s]\u001b[A\n",
            "31it [00:06,  4.82it/s]\u001b[A\n",
            "32it [00:06,  4.79it/s]\u001b[A\n",
            "33it [00:06,  4.82it/s]\u001b[A\n",
            "34it [00:07,  4.83it/s]\u001b[A\n",
            "35it [00:07,  4.84it/s]\u001b[A\n",
            "37it [00:07,  4.94it/s]\n",
            "147it [00:41,  3.57it/s]\n"
          ]
        },
        {
          "output_type": "stream",
          "name": "stdout",
          "text": [
            "Epoch [7/10], global step [1029/1470], PT Loss: 0.1567, Val Loss: -0.1123\n"
          ]
        },
        {
          "output_type": "stream",
          "name": "stderr",
          "text": [
            "146it [00:33,  4.36it/s]\n",
            "0it [00:00, ?it/s]\u001b[A\n",
            "1it [00:00,  4.97it/s]\u001b[A\n",
            "2it [00:00,  4.93it/s]\u001b[A\n",
            "3it [00:00,  4.90it/s]\u001b[A\n",
            "4it [00:00,  4.84it/s]\u001b[A\n",
            "5it [00:01,  4.78it/s]\u001b[A\n",
            "6it [00:01,  4.75it/s]\u001b[A\n",
            "7it [00:01,  4.79it/s]\u001b[A\n",
            "8it [00:01,  4.81it/s]\u001b[A\n",
            "9it [00:01,  4.82it/s]\u001b[A\n",
            "10it [00:02,  4.80it/s]\u001b[A\n",
            "11it [00:02,  4.80it/s]\u001b[A\n",
            "12it [00:02,  4.82it/s]\u001b[A\n",
            "13it [00:02,  4.84it/s]\u001b[A\n",
            "14it [00:02,  4.84it/s]\u001b[A\n",
            "15it [00:03,  4.84it/s]\u001b[A\n",
            "16it [00:03,  4.82it/s]\u001b[A\n",
            "17it [00:03,  4.83it/s]\u001b[A\n",
            "18it [00:03,  4.83it/s]\u001b[A\n",
            "19it [00:03,  4.85it/s]\u001b[A\n",
            "20it [00:04,  4.84it/s]\u001b[A\n",
            "21it [00:04,  4.81it/s]\u001b[A\n",
            "22it [00:04,  4.83it/s]\u001b[A\n",
            "23it [00:04,  4.81it/s]\u001b[A\n",
            "24it [00:04,  4.82it/s]\u001b[A\n",
            "25it [00:05,  4.82it/s]\u001b[A\n",
            "26it [00:05,  4.79it/s]\u001b[A\n",
            "27it [00:05,  4.78it/s]\u001b[A\n",
            "28it [00:05,  4.80it/s]\u001b[A\n",
            "29it [00:06,  4.81it/s]\u001b[A\n",
            "30it [00:06,  4.83it/s]\u001b[A\n",
            "31it [00:06,  4.82it/s]\u001b[A\n",
            "32it [00:06,  4.83it/s]\u001b[A\n",
            "33it [00:06,  4.84it/s]\u001b[A\n",
            "34it [00:07,  4.84it/s]\u001b[A\n",
            "35it [00:07,  4.83it/s]\u001b[A\n",
            "37it [00:07,  4.94it/s]\n",
            "147it [00:41,  3.57it/s]\n"
          ]
        },
        {
          "output_type": "stream",
          "name": "stdout",
          "text": [
            "Epoch [8/10], global step [1176/1470], PT Loss: 0.1570, Val Loss: -0.1087\n"
          ]
        },
        {
          "output_type": "stream",
          "name": "stderr",
          "text": [
            "146it [00:33,  4.43it/s]\n",
            "0it [00:00, ?it/s]\u001b[A\n",
            "1it [00:00,  5.06it/s]\u001b[A\n",
            "2it [00:00,  4.99it/s]\u001b[A\n",
            "3it [00:00,  4.93it/s]\u001b[A\n",
            "4it [00:00,  4.85it/s]\u001b[A\n",
            "5it [00:01,  4.84it/s]\u001b[A\n",
            "6it [00:01,  4.84it/s]\u001b[A\n",
            "7it [00:01,  4.85it/s]\u001b[A\n",
            "8it [00:01,  4.82it/s]\u001b[A\n",
            "9it [00:01,  4.81it/s]\u001b[A\n",
            "10it [00:02,  4.83it/s]\u001b[A\n",
            "11it [00:02,  4.84it/s]\u001b[A\n",
            "12it [00:02,  4.81it/s]\u001b[A\n",
            "13it [00:02,  4.83it/s]\u001b[A\n",
            "14it [00:02,  4.85it/s]\u001b[A\n",
            "15it [00:03,  4.87it/s]\u001b[A\n",
            "16it [00:03,  4.85it/s]\u001b[A\n",
            "17it [00:03,  4.85it/s]\u001b[A\n",
            "18it [00:03,  4.82it/s]\u001b[A\n",
            "19it [00:03,  4.84it/s]\u001b[A\n",
            "20it [00:04,  4.84it/s]\u001b[A\n",
            "21it [00:04,  4.84it/s]\u001b[A\n",
            "22it [00:04,  4.84it/s]\u001b[A\n",
            "23it [00:04,  4.84it/s]\u001b[A\n",
            "24it [00:04,  4.83it/s]\u001b[A\n",
            "25it [00:05,  4.85it/s]\u001b[A\n",
            "26it [00:05,  4.84it/s]\u001b[A\n",
            "27it [00:05,  4.85it/s]\u001b[A\n",
            "28it [00:05,  4.85it/s]\u001b[A\n",
            "29it [00:05,  4.85it/s]\u001b[A\n",
            "30it [00:06,  4.86it/s]\u001b[A\n",
            "31it [00:06,  4.86it/s]\u001b[A\n",
            "32it [00:06,  4.83it/s]\u001b[A\n",
            "33it [00:06,  4.85it/s]\u001b[A\n",
            "34it [00:07,  4.87it/s]\u001b[A\n",
            "35it [00:07,  4.88it/s]\u001b[A\n",
            "37it [00:07,  4.97it/s]\n",
            "147it [00:40,  3.59it/s]\n"
          ]
        },
        {
          "output_type": "stream",
          "name": "stdout",
          "text": [
            "Epoch [9/10], global step [1323/1470], PT Loss: 0.1568, Val Loss: -0.1115\n"
          ]
        },
        {
          "output_type": "stream",
          "name": "stderr",
          "text": [
            "146it [00:33,  4.44it/s]\n",
            "0it [00:00, ?it/s]\u001b[A\n",
            "1it [00:00,  5.04it/s]\u001b[A\n",
            "2it [00:00,  4.92it/s]\u001b[A\n",
            "3it [00:00,  4.90it/s]\u001b[A\n",
            "4it [00:00,  4.91it/s]\u001b[A\n",
            "5it [00:01,  4.89it/s]\u001b[A\n",
            "6it [00:01,  4.87it/s]\u001b[A\n",
            "7it [00:01,  4.85it/s]\u001b[A\n",
            "8it [00:01,  4.84it/s]\u001b[A\n",
            "9it [00:01,  4.86it/s]\u001b[A\n",
            "10it [00:02,  4.87it/s]\u001b[A\n",
            "11it [00:02,  4.86it/s]\u001b[A\n",
            "12it [00:02,  4.85it/s]\u001b[A\n",
            "13it [00:02,  4.85it/s]\u001b[A\n",
            "14it [00:02,  4.86it/s]\u001b[A\n",
            "15it [00:03,  4.84it/s]\u001b[A\n",
            "16it [00:03,  4.82it/s]\u001b[A\n",
            "17it [00:03,  4.82it/s]\u001b[A\n",
            "18it [00:03,  4.83it/s]\u001b[A\n",
            "19it [00:03,  4.84it/s]\u001b[A\n",
            "20it [00:04,  4.85it/s]\u001b[A\n",
            "21it [00:04,  4.87it/s]\u001b[A\n",
            "22it [00:04,  4.86it/s]\u001b[A\n",
            "23it [00:04,  4.85it/s]\u001b[A\n",
            "24it [00:04,  4.84it/s]\u001b[A\n",
            "25it [00:05,  4.85it/s]\u001b[A\n",
            "26it [00:05,  4.86it/s]\u001b[A\n",
            "27it [00:05,  4.88it/s]\u001b[A\n",
            "28it [00:05,  4.88it/s]\u001b[A\n",
            "29it [00:05,  4.88it/s]\u001b[A\n",
            "30it [00:06,  4.83it/s]\u001b[A\n",
            "31it [00:06,  4.84it/s]\u001b[A\n",
            "32it [00:06,  4.86it/s]\u001b[A\n",
            "33it [00:06,  4.86it/s]\u001b[A\n",
            "34it [00:06,  4.86it/s]\u001b[A\n",
            "35it [00:07,  4.86it/s]\u001b[A\n",
            "37it [00:07,  4.96it/s]\n",
            "147it [00:40,  3.59it/s]"
          ]
        },
        {
          "output_type": "stream",
          "name": "stdout",
          "text": [
            "Epoch [10/10], global step [1470/1470], PT Loss: 0.1567, Val Loss: -0.1084\n",
            "Pre-training done!\n"
          ]
        },
        {
          "output_type": "stream",
          "name": "stderr",
          "text": [
            "\n"
          ]
        }
      ]
    },
    {
      "cell_type": "markdown",
      "source": [
        "Załadowanie najleszej wersji modelu z fazy pretrain."
      ],
      "metadata": {
        "id": "qwtOrH26RrRM"
      }
    },
    {
      "cell_type": "code",
      "source": [
        "#!ls root +experiment_name+'_roberta_classifier'\n",
        "model = torch.load(f = root +experiment_name+'_roberta_classifier')"
      ],
      "metadata": {
        "id": "0rCfLErLRvQq"
      },
      "execution_count": null,
      "outputs": []
    },
    {
      "cell_type": "code",
      "source": [
        "plt.figure(figsize=(10, 8))\n",
        "train_loss_list, valid_loss_list, global_steps_list = load_metrics(root + '/'+experiment_name+'_metric.pkl')\n",
        "plt.plot(global_steps_list, train_loss_list, label='Train')\n",
        "plt.plot(global_steps_list, valid_loss_list, label='Valid')\n",
        "plt.xlabel('Global Steps', fontsize=14)\n",
        "plt.ylabel('Loss', fontsize=14)\n",
        "plt.title('Fine Tuning iSTS'+experiment_name)\n",
        "plt.legend(fontsize=14)\n",
        "plt.savefig(fname = root + '/'+experiment_name+\"pret_fig\", format = 'png')\n",
        "plt.show() "
      ],
      "metadata": {
        "colab": {
          "base_uri": "https://localhost:8080/",
          "height": 517
        },
        "id": "SpBvFj3gffqU",
        "outputId": "912d8185-e491-459d-f729-8d5cae86f7b2"
      },
      "execution_count": null,
      "outputs": [
        {
          "output_type": "display_data",
          "data": {
            "text/plain": [
              "<Figure size 720x576 with 1 Axes>"
            ],
            "image/png": "[encoded data removed]"
          },
          "metadata": {
            "needs_background": "light"
          }
        }
      ]
    },
    {
      "cell_type": "markdown",
      "source": [
        "\"Post training\" on low learning rate 1e-6"
      ],
      "metadata": {
        "id": "4h7O1n4wUtek"
      }
    },
    {
      "cell_type": "code",
      "source": [
        "def classification_report_csv(report, path):\n",
        "    report_data = []\n",
        "    lines = report.split('\\n')\n",
        "    \n",
        "    with open(path, 'w') as f:\n",
        "      for line in lines:\n",
        "          f.write(line)\n",
        "          f.write('\\n')\n",
        "\n"
      ],
      "metadata": {
        "id": "WlzMd-96tTAH"
      },
      "execution_count": null,
      "outputs": []
    },
    {
      "cell_type": "code",
      "execution_count": null,
      "metadata": {
        "id": "HNwRaRYCwZcX"
      },
      "outputs": [],
      "source": [
        "# Evaluation Function\n",
        "def evaluate(model, testing_loader, eval_dataset_name = None):\n",
        "    y_pred = []\n",
        "    y_true = []\n",
        "\n",
        "    model.eval()\n",
        "    with torch.no_grad():\n",
        "                                        \n",
        "      for  _,vdata in tqdm(enumerate(testing_loader, 0)):\n",
        "          vids = vdata['ids'].to(device, dtype = torch.long)\n",
        "          vmask = vdata['mask'].to(device, dtype = torch.long)\n",
        "          vtoken_type_ids = vdata['token_type_ids'].to(device, dtype = torch.long)\n",
        "          vtargets = vdata['targets'].to(device, dtype = torch.long)\n",
        "\n",
        "          voutputs = model(vids, vmask, vtoken_type_ids)\n",
        "\n",
        "          y_pred.extend(torch.argmax(voutputs, axis=-1).tolist())\n",
        "          y_true.extend(vtargets.tolist())\n",
        "    \n",
        "    \n",
        "    print('Classification Report:')\n",
        "    report = classification_report(y_true, y_pred, labels=list(range(num_outputs)), digits=4)\n",
        "    print(report)\n",
        "    classification_report_csv(report, path = root + '/'+experiment_name+\"_\"+eval_dataset_name+\"_report.txt\")\n",
        "\n",
        "    cm = confusion_matrix(y_true, y_pred, labels=list(range(num_outputs)))\n",
        "    ax = plt.subplot()\n",
        "\n",
        "    sns.heatmap(cm, annot=True, ax = ax, cmap='Blues', fmt=\"d\")\n",
        "\n",
        "    ax.set_title('Confusion Matrix')\n",
        "\n",
        "    ax.set_xlabel('Predicted Labels')\n",
        "    ax.set_ylabel('True Labels')\n",
        "\n",
        "    plt.savefig(fname = root + '/'+experiment_name+\"_cm_\"+eval_dataset_name, format = 'png')\n",
        "        \n",
        "    my_array = np.array([y_pred,y_true])\n",
        "    df = pd.DataFrame(my_array)\n",
        "    return df.T\n",
        "\n"
      ]
    },
    {
      "cell_type": "code",
      "source": [
        "df_test_headlines = pd.read_csv(semeval2_root+'test_headlines.csv', header= 0)\n",
        "df_test_imgs = pd.read_csv(semeval2_root+'test_images.csv', header= 0)\n",
        "df_test_as = pd.read_csv(semeval2_root+'test_answers-students.csv', header= 0)\n",
        "\n",
        "df_test_headlines = preprocess_semeval(df_test_headlines, is_score_based=is_score_based)\n",
        "df_test_imgs = preprocess_semeval(df_test_imgs, is_score_based=is_score_based)\n",
        "df_test_as = preprocess_semeval(df_test_as, is_score_based=is_score_based)\n"
      ],
      "metadata": {
        "id": "qHSXcyIfCBf5"
      },
      "execution_count": null,
      "outputs": []
    },
    {
      "cell_type": "code",
      "execution_count": null,
      "metadata": {
        "id": "33l4l_MkwZcY",
        "colab": {
          "base_uri": "https://localhost:8080/"
        },
        "outputId": "db7ddc3a-6796-4d00-c0e4-91367cfb00a5"
      },
      "outputs": [
        {
          "output_type": "stream",
          "name": "stdout",
          "text": [
            "10048\n",
            "5663\n",
            "5663\n",
            "1416\n",
            "2969\n"
          ]
        }
      ],
      "source": [
        "test_size = df_test_headlines.shape[0] + df_test_imgs.shape[0] + df_test_as.shape[0] \n",
        "train_size = df_train.shape[0] \n",
        "valid_size =  df_valid.shape[0]\n",
        "\n",
        "ds_size = test_size + train_size + valid_size\n",
        "\n",
        "print(ds_size)\n",
        "print(train_size)\n",
        "print(train_size)\n",
        "print(valid_size)\n",
        "print(test_size)\n",
        "\n"
      ]
    },
    {
      "cell_type": "code",
      "source": [],
      "metadata": {
        "id": "TWyqhy5VSuai"
      },
      "execution_count": null,
      "outputs": []
    },
    {
      "cell_type": "code",
      "execution_count": null,
      "metadata": {
        "id": "uiqAneeUwZcY"
      },
      "outputs": [],
      "source": [
        "MAX_LEN = 256\n",
        "\n",
        "df_test_headlines = df_test_headlines.reset_index(drop=True)\n",
        "df_test_imgs = df_test_imgs.reset_index(drop=True)\n",
        "df_test_as = df_test_as.reset_index(drop=True)\n",
        "\n",
        "\n",
        "test_headlines_set = Data(df_test_headlines, tokenizer, MAX_LEN)\n",
        "test_imgs_set = Data(df_test_imgs, tokenizer, MAX_LEN)\n",
        "test_as_set = Data(df_test_as, tokenizer, MAX_LEN)"
      ]
    },
    {
      "cell_type": "code",
      "source": [
        "df_test_imgs.head()"
      ],
      "metadata": {
        "id": "LOHgNSVcm22z",
        "colab": {
          "base_uri": "https://localhost:8080/",
          "height": 206
        },
        "outputId": "14aa030d-07b6-4182-aad2-0ef9a2f168d8"
      },
      "execution_count": null,
      "outputs": [
        {
          "output_type": "execute_result",
          "data": {
            "text/plain": [
              "                       chunk1                      chunk2  value explanation  \\\n",
              "0               on the tracks                   on tracks      5        EQUI   \n",
              "1  Two green and white trains  Two green and white trains      5        EQUI   \n",
              "2                 in a street                      street      5        EQUI   \n",
              "3                     driving                driving down      4        SPE2   \n",
              "4                       a bus       Red double decker bus      3        SPE2   \n",
              "\n",
              "   type                                               text  target  \n",
              "0     0                          on the tracks . on tracks       0  \n",
              "1     0  Two green and white trains . Two green and whi...       0  \n",
              "2     0                               in a street . street       0  \n",
              "3     3                             driving . driving down       3  \n",
              "4     3                      a bus . Red double decker bus       3  "
            ],
            "text/html": [
              "\n",
              "  <div id=\"df-9642b0e4-63b6-4d7b-89e1-361d0a6f740b\">\n",
              "    <div class=\"colab-df-container\">\n",
              "      <div>\n",
              "<style scoped>\n",
              "    .dataframe tbody tr th:only-of-type {\n",
              "        vertical-align: middle;\n",
              "    }\n",
              "\n",
              "    .dataframe tbody tr th {\n",
              "        vertical-align: top;\n",
              "    }\n",
              "\n",
              "    .dataframe thead th {\n",
              "        text-align: right;\n",
              "    }\n",
              "</style>\n",
              "<table border=\"1\" class=\"dataframe\">\n",
              "  <thead>\n",
              "    <tr style=\"text-align: right;\">\n",
              "      <th></th>\n",
              "      <th>chunk1</th>\n",
              "      <th>chunk2</th>\n",
              "      <th>value</th>\n",
              "      <th>explanation</th>\n",
              "      <th>type</th>\n",
              "      <th>text</th>\n",
              "      <th>target</th>\n",
              "    </tr>\n",
              "  </thead>\n",
              "  <tbody>\n",
              "    <tr>\n",
              "      <th>0</th>\n",
              "      <td>on the tracks</td>\n",
              "      <td>on tracks</td>\n",
              "      <td>5</td>\n",
              "      <td>EQUI</td>\n",
              "      <td>0</td>\n",
              "      <td>on the tracks . on tracks</td>\n",
              "      <td>0</td>\n",
              "    </tr>\n",
              "    <tr>\n",
              "      <th>1</th>\n",
              "      <td>Two green and white trains</td>\n",
              "      <td>Two green and white trains</td>\n",
              "      <td>5</td>\n",
              "      <td>EQUI</td>\n",
              "      <td>0</td>\n",
              "      <td>Two green and white trains . Two green and whi...</td>\n",
              "      <td>0</td>\n",
              "    </tr>\n",
              "    <tr>\n",
              "      <th>2</th>\n",
              "      <td>in a street</td>\n",
              "      <td>street</td>\n",
              "      <td>5</td>\n",
              "      <td>EQUI</td>\n",
              "      <td>0</td>\n",
              "      <td>in a street . street</td>\n",
              "      <td>0</td>\n",
              "    </tr>\n",
              "    <tr>\n",
              "      <th>3</th>\n",
              "      <td>driving</td>\n",
              "      <td>driving down</td>\n",
              "      <td>4</td>\n",
              "      <td>SPE2</td>\n",
              "      <td>3</td>\n",
              "      <td>driving . driving down</td>\n",
              "      <td>3</td>\n",
              "    </tr>\n",
              "    <tr>\n",
              "      <th>4</th>\n",
              "      <td>a bus</td>\n",
              "      <td>Red double decker bus</td>\n",
              "      <td>3</td>\n",
              "      <td>SPE2</td>\n",
              "      <td>3</td>\n",
              "      <td>a bus . Red double decker bus</td>\n",
              "      <td>3</td>\n",
              "    </tr>\n",
              "  </tbody>\n",
              "</table>\n",
              "</div>\n",
              "      <button class=\"colab-df-convert\" onclick=\"convertToInteractive('df-9642b0e4-63b6-4d7b-89e1-361d0a6f740b')\"\n",
              "              title=\"Convert this dataframe to an interactive table.\"\n",
              "              style=\"display:none;\">\n",
              "        \n",
              "  <svg xmlns=\"http://www.w3.org/2000/svg\" height=\"24px\"viewBox=\"0 0 24 24\"\n",
              "       width=\"24px\">\n",
              "    <path d=\"M0 0h24v24H0V0z\" fill=\"none\"/>\n",
              "    <path d=\"M18.56 5.44l.94 2.06.94-2.06 2.06-.94-2.06-.94-.94-2.06-.94 2.06-2.06.94zm-11 1L8.5 8.5l.94-2.06 2.06-.94-2.06-.94L8.5 2.5l-.94 2.06-2.06.94zm10 10l.94 2.06.94-2.06 2.06-.94-2.06-.94-.94-2.06-.94 2.06-2.06.94z\"/><path d=\"M17.41 7.96l-1.37-1.37c-.4-.4-.92-.59-1.43-.59-.52 0-1.04.2-1.43.59L10.3 9.45l-7.72 7.72c-.78.78-.78 2.05 0 2.83L4 21.41c.39.39.9.59 1.41.59.51 0 1.02-.2 1.41-.59l7.78-7.78 2.81-2.81c.8-.78.8-2.07 0-2.86zM5.41 20L4 18.59l7.72-7.72 1.47 1.35L5.41 20z\"/>\n",
              "  </svg>\n",
              "      </button>\n",
              "      \n",
              "  <style>\n",
              "    .colab-df-container {\n",
              "      display:flex;\n",
              "      flex-wrap:wrap;\n",
              "      gap: 12px;\n",
              "    }\n",
              "\n",
              "    .colab-df-convert {\n",
              "      background-color: #E8F0FE;\n",
              "      border: none;\n",
              "      border-radius: 50%;\n",
              "      cursor: pointer;\n",
              "      display: none;\n",
              "      fill: #1967D2;\n",
              "      height: 32px;\n",
              "      padding: 0 0 0 0;\n",
              "      width: 32px;\n",
              "    }\n",
              "\n",
              "    .colab-df-convert:hover {\n",
              "      background-color: #E2EBFA;\n",
              "      box-shadow: 0px 1px 2px rgba(60, 64, 67, 0.3), 0px 1px 3px 1px rgba(60, 64, 67, 0.15);\n",
              "      fill: #174EA6;\n",
              "    }\n",
              "\n",
              "    [theme=dark] .colab-df-convert {\n",
              "      background-color: #3B4455;\n",
              "      fill: #D2E3FC;\n",
              "    }\n",
              "\n",
              "    [theme=dark] .colab-df-convert:hover {\n",
              "      background-color: #434B5C;\n",
              "      box-shadow: 0px 1px 3px 1px rgba(0, 0, 0, 0.15);\n",
              "      filter: drop-shadow(0px 1px 2px rgba(0, 0, 0, 0.3));\n",
              "      fill: #FFFFFF;\n",
              "    }\n",
              "  </style>\n",
              "\n",
              "      <script>\n",
              "        const buttonEl =\n",
              "          document.querySelector('#df-9642b0e4-63b6-4d7b-89e1-361d0a6f740b button.colab-df-convert');\n",
              "        buttonEl.style.display =\n",
              "          google.colab.kernel.accessAllowed ? 'block' : 'none';\n",
              "\n",
              "        async function convertToInteractive(key) {\n",
              "          const element = document.querySelector('#df-9642b0e4-63b6-4d7b-89e1-361d0a6f740b');\n",
              "          const dataTable =\n",
              "            await google.colab.kernel.invokeFunction('convertToInteractive',\n",
              "                                                     [key], {});\n",
              "          if (!dataTable) return;\n",
              "\n",
              "          const docLinkHtml = 'Like what you see? Visit the ' +\n",
              "            '<a target=\"_blank\" href=https://colab.research.google.com/notebooks/data_table.ipynb>data table notebook</a>'\n",
              "            + ' to learn more about interactive tables.';\n",
              "          element.innerHTML = '';\n",
              "          dataTable['output_type'] = 'display_data';\n",
              "          await google.colab.output.renderOutput(dataTable, element);\n",
              "          const docLink = document.createElement('div');\n",
              "          docLink.innerHTML = docLinkHtml;\n",
              "          element.appendChild(docLink);\n",
              "        }\n",
              "      </script>\n",
              "    </div>\n",
              "  </div>\n",
              "  "
            ]
          },
          "metadata": {},
          "execution_count": 33
        }
      ]
    },
    {
      "cell_type": "code",
      "source": [
        "test_params = {'batch_size': 16,\n",
        "                'shuffle': True,\n",
        "                'num_workers': 0\n",
        "                }\n",
        "\n",
        "headlines_loader = DataLoader(test_headlines_set, **train_params)\n",
        "imgs_loader = DataLoader(test_imgs_set, **train_params)\n",
        "as_loader = DataLoader(test_as_set, **train_params)\n",
        "\n"
      ],
      "metadata": {
        "id": "Zp2qW2vukop-"
      },
      "execution_count": null,
      "outputs": []
    },
    {
      "cell_type": "markdown",
      "source": [
        "Ewaulacja Headlines"
      ],
      "metadata": {
        "id": "rYnKQouEl1FB"
      }
    },
    {
      "cell_type": "code",
      "source": [
        "result_headlines = evaluate(model, headlines_loader, eval_dataset_name ='headlines')\n"
      ],
      "metadata": {
        "id": "xgc5sBWxlLMA",
        "colab": {
          "base_uri": "https://localhost:8080/",
          "height": 787
        },
        "outputId": "b3510815-f0f9-4bdf-86ac-3c554cb4d210"
      },
      "execution_count": null,
      "outputs": [
        {
          "output_type": "stream",
          "name": "stderr",
          "text": [
            "\r0it [00:00, ?it/s]/usr/local/lib/python3.10/dist-packages/transformers/tokenization_utils_base.py:2336: FutureWarning: The `pad_to_max_length` argument is deprecated and will be removed in a future version, use `padding=True` or `padding='longest'` to pad to the longest sequence in the batch, or use `padding='max_length'` to pad to a max length. In this case, you can give a specific length with `max_length` (e.g. `max_length=45`) or leave max_length to None to pad to the maximal input size of the model (e.g. 512 for Bert).\n",
            "  warnings.warn(\n",
            "69it [00:13,  5.18it/s]\n"
          ]
        },
        {
          "output_type": "stream",
          "name": "stdout",
          "text": [
            "Classification Report:\n",
            "              precision    recall  f1-score   support\n",
            "\n",
            "           0     0.8095    0.9021    0.8533       664\n",
            "           1     0.4327    0.4933    0.4611       150\n",
            "           2     0.2909    0.1633    0.2092        98\n",
            "           3     0.1944    0.1308    0.1564       107\n",
            "           4     0.4286    0.2727    0.3333        66\n",
            "           5     0.3333    0.5000    0.4000        10\n",
            "\n",
            "    accuracy                         0.6630      1095\n",
            "   macro avg     0.4149    0.4104    0.4022      1095\n",
            "weighted avg     0.6240    0.6630    0.6383      1095\n",
            "\n"
          ]
        },
        {
          "output_type": "display_data",
          "data": {
            "text/plain": [
              "<Figure size 640x480 with 2 Axes>"
            ],
            "image/png": "[encoded data removed]"
          },
          "metadata": {}
        }
      ]
    },
    {
      "cell_type": "code",
      "source": [
        "result_imgs = evaluate(model, imgs_loader, eval_dataset_name ='images')"
      ],
      "metadata": {
        "id": "pcukOBQVmiv9",
        "colab": {
          "base_uri": "https://localhost:8080/",
          "height": 787
        },
        "outputId": "b880661b-e0bf-44ff-af0c-b9acb7bf4767"
      },
      "execution_count": null,
      "outputs": [
        {
          "output_type": "stream",
          "name": "stderr",
          "text": [
            "\r0it [00:00, ?it/s]/usr/local/lib/python3.10/dist-packages/transformers/tokenization_utils_base.py:2336: FutureWarning: The `pad_to_max_length` argument is deprecated and will be removed in a future version, use `padding=True` or `padding='longest'` to pad to the longest sequence in the batch, or use `padding='max_length'` to pad to a max length. In this case, you can give a specific length with `max_length` (e.g. `max_length=45`) or leave max_length to None to pad to the maximal input size of the model (e.g. 512 for Bert).\n",
            "  warnings.warn(\n",
            "59it [00:11,  5.15it/s]\n"
          ]
        },
        {
          "output_type": "stream",
          "name": "stdout",
          "text": [
            "Classification Report:\n",
            "              precision    recall  f1-score   support\n",
            "\n",
            "           0     0.7960    0.7976    0.7968       499\n",
            "           1     0.4648    0.3882    0.4231       170\n",
            "           2     0.2818    0.4921    0.3584       126\n",
            "           3     0.2958    0.1927    0.2333       109\n",
            "           4     0.1667    0.0286    0.0488        35\n",
            "           5     0.0000    0.0000    0.0000         3\n",
            "\n",
            "    accuracy                         0.5817       942\n",
            "   macro avg     0.3342    0.3165    0.3101       942\n",
            "weighted avg     0.5837    0.5817    0.5752       942\n",
            "\n"
          ]
        },
        {
          "output_type": "display_data",
          "data": {
            "text/plain": [
              "<Figure size 640x480 with 2 Axes>"
            ],
            "image/png": "[encoded data removed]"
          },
          "metadata": {}
        }
      ]
    },
    {
      "cell_type": "code",
      "source": [
        "result_as = evaluate(model, as_loader, eval_dataset_name ='answer_students')"
      ],
      "metadata": {
        "id": "031U0Cl4q2c7",
        "colab": {
          "base_uri": "https://localhost:8080/",
          "height": 787
        },
        "outputId": "81470558-9686-477b-954b-6b4ad2b0e759"
      },
      "execution_count": null,
      "outputs": [
        {
          "output_type": "stream",
          "name": "stderr",
          "text": [
            "\r0it [00:00, ?it/s]/usr/local/lib/python3.10/dist-packages/transformers/tokenization_utils_base.py:2336: FutureWarning: The `pad_to_max_length` argument is deprecated and will be removed in a future version, use `padding=True` or `padding='longest'` to pad to the longest sequence in the batch, or use `padding='max_length'` to pad to a max length. In this case, you can give a specific length with `max_length` (e.g. `max_length=45`) or leave max_length to None to pad to the maximal input size of the model (e.g. 512 for Bert).\n",
            "  warnings.warn(\n",
            "59it [00:11,  5.15it/s]\n"
          ]
        },
        {
          "output_type": "stream",
          "name": "stdout",
          "text": [
            "Classification Report:\n",
            "              precision    recall  f1-score   support\n",
            "\n",
            "           0     0.8546    0.6046    0.7082       564\n",
            "           1     0.7000    0.1818    0.2887        77\n",
            "           2     0.2439    0.1493    0.1852        67\n",
            "           3     0.3125    0.3846    0.3448        78\n",
            "           4     0.5324    0.7629    0.6271        97\n",
            "           5     0.1857    0.8980    0.3077        49\n",
            "\n",
            "    accuracy                         0.5504       932\n",
            "   macro avg     0.4715    0.4969    0.4103       932\n",
            "weighted avg     0.6839    0.5504    0.5760       932\n",
            "\n"
          ]
        },
        {
          "output_type": "display_data",
          "data": {
            "text/plain": [
              "<Figure size 640x480 with 2 Axes>"
            ],
            "image/png": "[encoded data removed]"
          },
          "metadata": {}
        }
      ]
    },
    {
      "cell_type": "code",
      "execution_count": null,
      "metadata": {
        "id": "lV1OFz96wZcZ"
      },
      "outputs": [],
      "source": [
        "result_headlines.to_csv(root+ '/'+experiment_name+\" headlines.csv\", index = False)\n",
        "result_imgs.to_csv(root+ '/'+experiment_name+\" imgs.csv\", index = False)\n",
        "result_as.to_csv(root+ '/'+experiment_name+\" as.csv\", index = False)"
      ]
    }
  ],
  "metadata": {
    "kernelspec": {
      "display_name": "Python 3",
      "language": "python",
      "name": "python3"
    },
    "language_info": {
      "codemirror_mode": {
        "name": "ipython",
        "version": 3
      },
      "file_extension": ".py",
      "mimetype": "text/x-python",
      "name": "python",
      "nbconvert_exporter": "python",
      "pygments_lexer": "ipython3",
      "version": "3.8.10"
    },
    "colab": {
      "provenance": [],
      "machine_shape": "hm"
    },
    "accelerator": "GPU",
    "gpuClass": "standard"
  },
  "nbformat": 4,
  "nbformat_minor": 0
}